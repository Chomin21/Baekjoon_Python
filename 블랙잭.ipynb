{
 "cells": [
  {
   "cell_type": "code",
   "execution_count": 20,
   "metadata": {},
   "outputs": [
    {
     "name": "stdout",
     "output_type": "stream",
     "text": [
      "5 21\n",
      "5 6 7 8 9\n",
      "21\n"
     ]
    }
   ],
   "source": [
    "#내 풀이\n",
    "from itertools import combinations\n",
    "\n",
    "n, m = map(int, input().split()) # n : 카드의 개수, m : 넘지 않아야 할 수\n",
    "card_list = list(map(int, input().split()))\n",
    "com_list = list(combinations(card_list, 3))\n",
    "\n",
    "max_sum = 0\n",
    "for i in com_list:\n",
    "    if m < sum(i):\n",
    "        continue\n",
    "    elif max_sum < sum(i):\n",
    "        max_sum = sum(i)\n",
    "    \n",
    "print(max_sum)"
   ]
  },
  {
   "cell_type": "code",
   "execution_count": null,
   "metadata": {},
   "outputs": [],
   "source": [
    "#다른 사람 풀이\n",
    "N, M = list(map(int, input().split()))\n",
    "num = list(map(int, input().split()))\n",
    "result = 0\n",
    "\n",
    "for i in range(0, N):\n",
    "    for j in range(i+1, N):\n",
    "        for k in range(j+1, N):\n",
    "            sum = num[i]+num[j]+num[k]\n",
    "            if sum <= M:\n",
    "                result = max(result, sum)\n",
    "print(result)"
   ]
  }
 ],
 "metadata": {
  "kernelspec": {
   "display_name": "Python 3",
   "language": "python",
   "name": "python3"
  },
  "language_info": {
   "codemirror_mode": {
    "name": "ipython",
    "version": 3
   },
   "file_extension": ".py",
   "mimetype": "text/x-python",
   "name": "python",
   "nbconvert_exporter": "python",
   "pygments_lexer": "ipython3",
   "version": "3.8.2"
  }
 },
 "nbformat": 4,
 "nbformat_minor": 4
}
