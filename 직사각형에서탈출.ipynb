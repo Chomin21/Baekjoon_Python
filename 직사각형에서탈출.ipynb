{
 "cells": [
  {
   "cell_type": "code",
   "execution_count": 1,
   "id": "bigger-namibia",
   "metadata": {},
   "outputs": [
    {
     "name": "stdout",
     "output_type": "stream",
     "text": [
      "6 2 10 3\n",
      "1\n"
     ]
    }
   ],
   "source": [
    "#직사각형에서 탈출\n",
    "#escape from Rectangle\n",
    "\n",
    "x, y, w, h = map(int, input().split())\n",
    "min_x = 0\n",
    "min_y = 0\n",
    "\n",
    "if x <= (w - x):\n",
    "    min_x = x\n",
    "else:\n",
    "    min_x = w - x\n",
    "\n",
    "if y <= (h - y):\n",
    "    min_y = y\n",
    "else:\n",
    "    min_y = h - y\n",
    "\n",
    "print(min(min_x, min_y))\n",
    "\n",
    "#이 식이면 한번에 처리 가능\n",
    "#print(min(x, y, w - x, h - y))\n"
   ]
  },
  {
   "cell_type": "code",
   "execution_count": null,
   "id": "protective-roman",
   "metadata": {},
   "outputs": [],
   "source": []
  }
 ],
 "metadata": {
  "kernelspec": {
   "display_name": "Python 3",
   "language": "python",
   "name": "python3"
  },
  "language_info": {
   "codemirror_mode": {
    "name": "ipython",
    "version": 3
   },
   "file_extension": ".py",
   "mimetype": "text/x-python",
   "name": "python",
   "nbconvert_exporter": "python",
   "pygments_lexer": "ipython3",
   "version": "3.9.1"
  }
 },
 "nbformat": 4,
 "nbformat_minor": 5
}
