{
 "cells": [
  {
   "cell_type": "code",
   "execution_count": 12,
   "id": "funded-version",
   "metadata": {},
   "outputs": [
    {
     "name": "stdout",
     "output_type": "stream",
     "text": [
      "3 2 3\n",
      "5\n"
     ]
    }
   ],
   "source": [
    "#dice\n",
    "\n",
    "s1, s2, s3 = map(int, input().split())\n",
    "dice_list = list()\n",
    "dice_dic = {}\n",
    "\n",
    "for i in range(1, s1 + 1):\n",
    "    for m in range(1, s2 + 1):\n",
    "        for n in range(1, s3 + 1):\n",
    "            dice_list.append(sum([i, m, n]))\n",
    "            \n",
    "for t in dice_list:\n",
    "    if t not in dice_dic.keys():\n",
    "        dice_dic[t] = 1\n",
    "    else:\n",
    "        dice_dic[t] += 1\n",
    "    \n",
    "print(max(dice_dic, key=dice_dic.get))\n",
    "\n",
    "# 여러개 출력하는 경우\n",
    "#[k for k, v in dice_dic.items() if max(dice_dic.values()) == v]"
   ]
  },
  {
   "cell_type": "code",
   "execution_count": null,
   "id": "convinced-trash",
   "metadata": {},
   "outputs": [],
   "source": []
  }
 ],
 "metadata": {
  "kernelspec": {
   "display_name": "Python 3",
   "language": "python",
   "name": "python3"
  },
  "language_info": {
   "codemirror_mode": {
    "name": "ipython",
    "version": 3
   },
   "file_extension": ".py",
   "mimetype": "text/x-python",
   "name": "python",
   "nbconvert_exporter": "python",
   "pygments_lexer": "ipython3",
   "version": "3.9.1"
  }
 },
 "nbformat": 4,
 "nbformat_minor": 5
}
