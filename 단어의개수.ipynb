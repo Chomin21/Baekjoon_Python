{
 "cells": [
  {
   "cell_type": "code",
   "execution_count": 3,
   "id": "regular-speed",
   "metadata": {},
   "outputs": [
    {
     "name": "stdout",
     "output_type": "stream",
     "text": [
      "The Curious Case of Benjamin Button\n",
      "['The', 'Curious', 'Case', 'of', 'Benjamin', 'Button']\n",
      "{'The': 1, 'Curious': 1, 'Case': 1, 'of': 1, 'Benjamin': 1, 'Button': 1}\n",
      "6\n"
     ]
    }
   ],
   "source": [
    "#the number of words\n",
    "#풀이 1\n",
    "word_list = list(input().split())\n",
    "\n",
    "word_dic = {}\n",
    "\n",
    "for i in word_list:\n",
    "    if i not in word_dic.keys():\n",
    "        word_dic[i] = 1\n",
    "    else:\n",
    "        word_dic[i] += 1\n",
    "        \n",
    "print(sum(word_dic.values()))"
   ]
  },
  {
   "cell_type": "code",
   "execution_count": null,
   "id": "following-murray",
   "metadata": {},
   "outputs": [],
   "source": [
    "#풀이 2\n",
    "aaa = input().split()\n",
    "\n",
    "print(len(aaa))"
   ]
  }
 ],
 "metadata": {
  "kernelspec": {
   "display_name": "Python 3",
   "language": "python",
   "name": "python3"
  },
  "language_info": {
   "codemirror_mode": {
    "name": "ipython",
    "version": 3
   },
   "file_extension": ".py",
   "mimetype": "text/x-python",
   "name": "python",
   "nbconvert_exporter": "python",
   "pygments_lexer": "ipython3",
   "version": "3.9.1"
  }
 },
 "nbformat": 4,
 "nbformat_minor": 5
}
