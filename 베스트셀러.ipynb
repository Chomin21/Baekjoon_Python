{
 "cells": [
  {
   "cell_type": "code",
   "execution_count": 5,
   "id": "greatest-infrared",
   "metadata": {},
   "outputs": [
    {
     "name": "stdout",
     "output_type": "stream",
     "text": [
      "5\n",
      "top\n",
      "top\n",
      "top\n",
      "top\n",
      "kimtop\n",
      "top\n"
     ]
    }
   ],
   "source": [
    "#best seller\n",
    "\n",
    "N = int(input())\n",
    "book_dic = {}\n",
    "book_max = []\n",
    "\n",
    "for _ in range(N):\n",
    "    book = input()\n",
    "    if book not in book_dic.keys():\n",
    "        book_dic[book] = 1\n",
    "    else:\n",
    "        book_dic[book] += 1\n",
    "        \n",
    "max_value = max(book_dic.values())\n",
    "\n",
    "for key, value in book_dic.items():\n",
    "    if value == max_value:\n",
    "        book_max.append(key)\n",
    "\n",
    "book_max.sort()\n",
    "print(book_max[0])\n",
    "    "
   ]
  },
  {
   "cell_type": "code",
   "execution_count": null,
   "id": "interracial-hampton",
   "metadata": {},
   "outputs": [],
   "source": []
  }
 ],
 "metadata": {
  "kernelspec": {
   "display_name": "Python 3",
   "language": "python",
   "name": "python3"
  },
  "language_info": {
   "codemirror_mode": {
    "name": "ipython",
    "version": 3
   },
   "file_extension": ".py",
   "mimetype": "text/x-python",
   "name": "python",
   "nbconvert_exporter": "python",
   "pygments_lexer": "ipython3",
   "version": "3.9.1"
  }
 },
 "nbformat": 4,
 "nbformat_minor": 5
}
