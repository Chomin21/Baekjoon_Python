{
 "cells": [
  {
   "cell_type": "code",
   "execution_count": 7,
   "id": "reported-color",
   "metadata": {},
   "outputs": [
    {
     "name": "stdout",
     "output_type": "stream",
     "text": [
      "5 0\n",
      "-7 -3 -2 5 8\n",
      "1\n"
     ]
    }
   ],
   "source": [
    "#sum of partial sequences\n",
    "\n",
    "import itertools\n",
    "\n",
    "N, S = map(int, input().split())\n",
    "num_list = list(map(int, input().split()))\n",
    "\n",
    "#조합 리스트\n",
    "comb_list = [list(itertools.combinations(num_list, i)) for i in range(1, N + 1)]\n",
    "\n",
    "#갯수 세기\n",
    "count = 0\n",
    "for k in comb_list:\n",
    "    for t in k:\n",
    "        if sum(t) == S:\n",
    "            count += 1\n",
    "print(count)"
   ]
  },
  {
   "cell_type": "code",
   "execution_count": null,
   "id": "identified-treasurer",
   "metadata": {},
   "outputs": [],
   "source": []
  }
 ],
 "metadata": {
  "kernelspec": {
   "display_name": "Python 3",
   "language": "python",
   "name": "python3"
  },
  "language_info": {
   "codemirror_mode": {
    "name": "ipython",
    "version": 3
   },
   "file_extension": ".py",
   "mimetype": "text/x-python",
   "name": "python",
   "nbconvert_exporter": "python",
   "pygments_lexer": "ipython3",
   "version": "3.9.1"
  }
 },
 "nbformat": 4,
 "nbformat_minor": 5
}
