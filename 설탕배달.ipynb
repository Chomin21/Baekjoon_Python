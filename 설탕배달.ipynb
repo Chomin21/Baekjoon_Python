{
 "cells": [
  {
   "cell_type": "code",
   "execution_count": 29,
   "id": "artistic-ready",
   "metadata": {},
   "outputs": [
    {
     "name": "stdout",
     "output_type": "stream",
     "text": [
      "11\n",
      "3\n"
     ]
    }
   ],
   "source": [
    "n = int(input())\n",
    "\n",
    "count_5 = n // 5\n",
    "\n",
    "if count_5 == 0:\n",
    "    count_3 = n // 3\n",
    "    if n % 3 == 0:\n",
    "        print(count_3)\n",
    "    else:\n",
    "        print(-1)\n",
    "else:   \n",
    "    for i in range(count_5, -1, -1):    \n",
    "        rest_5 = n - i * 5    \n",
    "        count_3 = rest_5 // 3\n",
    "        rest_3 = rest_5 % 3\n",
    "    \n",
    "        if rest_3 == 0:\n",
    "            print(i + count_3)\n",
    "            break\n",
    "        if i == 0:\n",
    "            print(-1)\n"
   ]
  },
  {
   "cell_type": "code",
   "execution_count": null,
   "id": "hungry-wednesday",
   "metadata": {},
   "outputs": [],
   "source": []
  }
 ],
 "metadata": {
  "kernelspec": {
   "display_name": "Python 3",
   "language": "python",
   "name": "python3"
  },
  "language_info": {
   "codemirror_mode": {
    "name": "ipython",
    "version": 3
   },
   "file_extension": ".py",
   "mimetype": "text/x-python",
   "name": "python",
   "nbconvert_exporter": "python",
   "pygments_lexer": "ipython3",
   "version": "3.9.1"
  }
 },
 "nbformat": 4,
 "nbformat_minor": 5
}
