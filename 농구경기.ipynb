{
 "cells": [
  {
   "cell_type": "code",
   "execution_count": 5,
   "id": "reasonable-husband",
   "metadata": {},
   "outputs": [
    {
     "name": "stdout",
     "output_type": "stream",
     "text": [
      "18\n",
      "babic\n",
      "kek\n",
      "bor\n",
      "buk\n",
      "sar\n",
      "bal\n",
      "kru\n",
      "hre\n",
      "bes\n",
      "bok\n",
      "kra\n",
      "pec\n",
      "kla\n",
      "kuk\n",
      "sun\n",
      "kol\n",
      "kov\n",
      "pri\n",
      "bk"
     ]
    }
   ],
   "source": [
    "#basketball game\n",
    "\n",
    "n = int(input())\n",
    "name_dic = {}\n",
    "answer = []\n",
    "\n",
    "for i in range(n):\n",
    "    name = input()\n",
    "    if name[0] in name_dic.keys():\n",
    "        name_dic[name[0]] += 1\n",
    "    else:\n",
    "        name_dic[name[0]] = 1\n",
    "\n",
    "for key, value in name_dic.items():\n",
    "    if value >= 5:\n",
    "        answer.append(key)\n",
    "        \n",
    "answer.sort()\n",
    "\n",
    "if len(answer) > 0:\n",
    "    for a in answer:\n",
    "        print(a, end = '')\n",
    "else:\n",
    "    print(\"PREDAJA\")"
   ]
  },
  {
   "cell_type": "code",
   "execution_count": null,
   "id": "local-yukon",
   "metadata": {},
   "outputs": [],
   "source": []
  }
 ],
 "metadata": {
  "kernelspec": {
   "display_name": "Python 3",
   "language": "python",
   "name": "python3"
  },
  "language_info": {
   "codemirror_mode": {
    "name": "ipython",
    "version": 3
   },
   "file_extension": ".py",
   "mimetype": "text/x-python",
   "name": "python",
   "nbconvert_exporter": "python",
   "pygments_lexer": "ipython3",
   "version": "3.9.1"
  }
 },
 "nbformat": 4,
 "nbformat_minor": 5
}
