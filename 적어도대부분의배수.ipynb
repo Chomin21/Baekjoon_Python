{
 "cells": [
  {
   "cell_type": "code",
   "execution_count": 4,
   "id": "chubby-invention",
   "metadata": {},
   "outputs": [
    {
     "name": "stdout",
     "output_type": "stream",
     "text": [
      "30 42 70 35 90\n",
      "210\n"
     ]
    }
   ],
   "source": [
    "#at least most multiples\n",
    "\n",
    "num_list = list(map(int, input().split()))\n",
    "\n",
    "num_list.sort()\n",
    "\n",
    "cnt = num_list[0]\n",
    "while True :\n",
    "    count = 0\n",
    "\n",
    "    for i in num_list:\n",
    "        if cnt % i == 0:\n",
    "            count += 1\n",
    "        if count == 3:\n",
    "            break\n",
    "    if count == 3:\n",
    "        print(cnt)\n",
    "        break\n",
    "    cnt += 1"
   ]
  },
  {
   "cell_type": "code",
   "execution_count": null,
   "id": "handled-parker",
   "metadata": {},
   "outputs": [],
   "source": []
  }
 ],
 "metadata": {
  "kernelspec": {
   "display_name": "Python 3",
   "language": "python",
   "name": "python3"
  },
  "language_info": {
   "codemirror_mode": {
    "name": "ipython",
    "version": 3
   },
   "file_extension": ".py",
   "mimetype": "text/x-python",
   "name": "python",
   "nbconvert_exporter": "python",
   "pygments_lexer": "ipython3",
   "version": "3.9.1"
  }
 },
 "nbformat": 4,
 "nbformat_minor": 5
}
