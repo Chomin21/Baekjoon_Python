{
 "cells": [
  {
   "cell_type": "code",
   "execution_count": 12,
   "id": "contrary-ireland",
   "metadata": {},
   "outputs": [
    {
     "name": "stdout",
     "output_type": "stream",
     "text": [
      "2\n",
      "7 5\n",
      "35\n"
     ]
    }
   ],
   "source": [
    "n = int(input())\n",
    "\n",
    "submultiple_list = list(map(int, input().split()))\n",
    "submultiple_list.sort()\n",
    "#약수의 개수가 짝수인 경우\n",
    "if n % 2 == 0:\n",
    "    answer = submultiple_list[0] * submultiple_list[len(submultiple_list)-1]\n",
    "#약수의 개수가 홀수인 경우\n",
    "else:\n",
    "    answer = submultiple_list[(n+1)//2-1]**2\n",
    "    \n",
    "print(answer)"
   ]
  },
  {
   "cell_type": "code",
   "execution_count": null,
   "id": "athletic-density",
   "metadata": {},
   "outputs": [],
   "source": []
  }
 ],
 "metadata": {
  "kernelspec": {
   "display_name": "Python 3",
   "language": "python",
   "name": "python3"
  },
  "language_info": {
   "codemirror_mode": {
    "name": "ipython",
    "version": 3
   },
   "file_extension": ".py",
   "mimetype": "text/x-python",
   "name": "python",
   "nbconvert_exporter": "python",
   "pygments_lexer": "ipython3",
   "version": "3.9.1"
  }
 },
 "nbformat": 4,
 "nbformat_minor": 5
}
