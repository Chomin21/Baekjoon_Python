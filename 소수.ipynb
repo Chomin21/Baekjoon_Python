{
 "cells": [
  {
   "cell_type": "code",
   "execution_count": 26,
   "id": "original-province",
   "metadata": {},
   "outputs": [
    {
     "name": "stdout",
     "output_type": "stream",
     "text": [
      "1 3 18\n",
      "3\n"
     ]
    }
   ],
   "source": [
    "#실버5\n",
    "#my solution\n",
    "\n",
    "A, B, N = map(int, input().split())\n",
    "\n",
    "num_list = list()\n",
    "answer = A/B\n",
    "i = 1\n",
    "\n",
    "if A % B == 0:\n",
    "    print(0)\n",
    "else:\n",
    "    if A > B:\n",
    "        A = A % B\n",
    "    \n",
    "    while(i != N + 1):\n",
    "        A = A * 10\n",
    "        num_list.append(A // B)\n",
    "        A = A % B\n",
    "        i += 1\n",
    "    print(num_list[N - 1])"
   ]
  },
  {
   "cell_type": "code",
   "execution_count": 13,
   "id": "large-colombia",
   "metadata": {},
   "outputs": [
    {
     "name": "stdout",
     "output_type": "stream",
     "text": [
      "1 3 18\n",
      "0.3333333333333333\n",
      "2\n"
     ]
    }
   ],
   "source": [
    "#런타임 에러 발생. 표시되는 소수점 범위를 벗어날 경우 다른 값이 나오는 오류 발생.\n",
    "import math\n",
    "\n",
    "A, B, N = map(int, input().split())\n",
    "\n",
    "num_list = list()\n",
    "answer = A/B\n",
    "print(answer)\n",
    "\n",
    "for i in range(0, N):\n",
    "    num_list.append(math.trunc((answer * (10**(i + 1))) % 10))\n",
    "\n",
    "print(num_list[N - 1])\n",
    "    "
   ]
  },
  {
   "cell_type": "code",
   "execution_count": null,
   "id": "quarterly-worse",
   "metadata": {},
   "outputs": [],
   "source": []
  }
 ],
 "metadata": {
  "kernelspec": {
   "display_name": "Python 3",
   "language": "python",
   "name": "python3"
  },
  "language_info": {
   "codemirror_mode": {
    "name": "ipython",
    "version": 3
   },
   "file_extension": ".py",
   "mimetype": "text/x-python",
   "name": "python",
   "nbconvert_exporter": "python",
   "pygments_lexer": "ipython3",
   "version": "3.9.1"
  }
 },
 "nbformat": 4,
 "nbformat_minor": 5
}
