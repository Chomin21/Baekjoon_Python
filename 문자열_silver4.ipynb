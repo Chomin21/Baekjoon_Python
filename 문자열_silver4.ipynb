{
 "cells": [
  {
   "cell_type": "code",
   "execution_count": 24,
   "id": "systematic-norwegian",
   "metadata": {},
   "outputs": [
    {
     "name": "stdout",
     "output_type": "stream",
     "text": [
      "adaabc aababbc\n",
      "2\n"
     ]
    }
   ],
   "source": [
    "#my solution\n",
    "#앞뒤로 붙일 수 있는 모든 경우를 다 따짐\n",
    "\n",
    "#다른 부분이 몇개인지 세는 함수 정의\n",
    "def checking(a, b):\n",
    "    count = 0\n",
    "    for i in range(len(a)):\n",
    "        if a[i] != b[i]:\n",
    "            count += 1\n",
    "        else:\n",
    "            continue\n",
    "    return count\n",
    "\n",
    "#A, B 입력받기\n",
    "A, B = input().split()\n",
    "case = []\n",
    "\n",
    "if  len(A) == len(B):\n",
    "    print(checking(A, B))\n",
    "else:\n",
    "    diff = len(B) - len(A)\n",
    "    for d in range(0, diff + 1):\n",
    "        #A의 뒷부분에만 붙이는 경우\n",
    "        if d == 0:\n",
    "            case.append(A + B[-diff:])\n",
    "        #A의 앞부분에만 붙이는 경우\n",
    "        elif diff == d:\n",
    "            case.append(B[0 : d] + A)\n",
    "        #그 외 나머지 1~diff-1부분\n",
    "        else:\n",
    "            case.append(B[0 : d] + A + B[-(diff - d):])\n",
    "    \n",
    "    check_list = []\n",
    "    for t in case:\n",
    "        check_list.append(checking(t, B))\n",
    "    print(min(check_list))\n"
   ]
  },
  {
   "cell_type": "code",
   "execution_count": 25,
   "id": "respiratory-medicine",
   "metadata": {},
   "outputs": [
    {
     "name": "stdout",
     "output_type": "stream",
     "text": [
      "adaabc aababbc\n",
      "2\n"
     ]
    }
   ],
   "source": [
    "#다른 사람 풀이\n",
    "\n",
    "a, b = input().split()\n",
    "\n",
    "min = 50 #len(a)로 해도 상관 없음\n",
    "\n",
    "#a와 b의 길이 차이만큼의 범위를 확인. b에서의 확인 위치 변경을 위함\n",
    "for i in range(len(b) - len(a) + 1):\n",
    "    cnt=0\n",
    "    #위에서 정해진 b의 위치에서부터 a의 길이 만큼 확인\n",
    "    for j in range(len(a)):\n",
    "        if a[j] != b[j+i]:\n",
    "            cnt += 1\n",
    "    if cnt <= min:\n",
    "        min = cnt\n",
    "print(min)"
   ]
  },
  {
   "cell_type": "code",
   "execution_count": null,
   "id": "computational-spirituality",
   "metadata": {},
   "outputs": [],
   "source": []
  }
 ],
 "metadata": {
  "kernelspec": {
   "display_name": "Python 3",
   "language": "python",
   "name": "python3"
  },
  "language_info": {
   "codemirror_mode": {
    "name": "ipython",
    "version": 3
   },
   "file_extension": ".py",
   "mimetype": "text/x-python",
   "name": "python",
   "nbconvert_exporter": "python",
   "pygments_lexer": "ipython3",
   "version": "3.9.1"
  }
 },
 "nbformat": 4,
 "nbformat_minor": 5
}
