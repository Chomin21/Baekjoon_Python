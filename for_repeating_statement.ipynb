{
 "cells": [
  {
   "cell_type": "code",
   "execution_count": 2,
   "metadata": {},
   "outputs": [
    {
     "name": "stdout",
     "output_type": "stream",
     "text": [
      "2\n",
      "2 * 1 = 2\n",
      "2 * 2 = 4\n",
      "2 * 3 = 6\n",
      "2 * 4 = 8\n",
      "2 * 5 = 10\n",
      "2 * 6 = 12\n",
      "2 * 7 = 14\n",
      "2 * 8 = 16\n",
      "2 * 9 = 18\n"
     ]
    }
   ],
   "source": [
    "#구구단\n",
    "a = input()\n",
    "a = int(a)\n",
    "\n",
    "for i in range(1,10) :\n",
    "    print(\"{0} * {1} = {2}\".format(a, i, a*i))\n",
    "    "
   ]
  },
  {
   "cell_type": "code",
   "execution_count": null,
   "metadata": {},
   "outputs": [],
   "source": [
    "#A+B-3\n",
    "n = input()\n",
    "n = int(n)\n",
    "\n",
    "for i in range(1,n+1):\n",
    "    a, b = input().split()\n",
    "    a = int(a)\n",
    "    b = int(b)\n",
    "    print(a+b)\n"
   ]
  },
  {
   "cell_type": "code",
   "execution_count": null,
   "metadata": {},
   "outputs": [],
   "source": [
    "#합\n",
    "a = input()\n",
    "a = int(a)\n",
    "s = 0\n",
    "\n",
    "for i in range(1, a+1):\n",
    "    s = s + i\n",
    "    \n",
    "print(s)\n"
   ]
  },
  {
   "cell_type": "code",
   "execution_count": null,
   "metadata": {},
   "outputs": [],
   "source": [
    "#빠른 A+B\n",
    "import sys\n",
    "\n",
    "a = sys.stdin.readline()\n",
    "a = int(a)\n",
    "\n",
    "for i in range(1, a+1):\n",
    "    a = sys.stdin.readline().split()\n",
    "    sys.stdout.write(int(a[0]) + int(a[1]))"
   ]
  },
  {
   "cell_type": "code",
   "execution_count": null,
   "metadata": {},
   "outputs": [],
   "source": [
    "#N 찍기\n",
    "import sys\n",
    "\n",
    "N = int(input())\n",
    "for i in range(N):\n",
    "    A, B = map(int,sys.stdin.readline().rstrip().split())\n",
    "    print(A+B)"
   ]
  },
  {
   "cell_type": "code",
   "execution_count": null,
   "metadata": {},
   "outputs": [],
   "source": [
    "#기찍 N\n",
    "n = int(input())\n",
    "\n",
    "for i in range(n, 0, -1):\n",
    "    print(i)\n"
   ]
  },
  {
   "cell_type": "code",
   "execution_count": null,
   "metadata": {},
   "outputs": [],
   "source": [
    "#A+B-7\n",
    "n = int(input())\n",
    "\n",
    "for i in range(1, n+1) :\n",
    "    a, b = input().split()\n",
    "    print(\"Case #%d: %d\" %(i, int(a)+int(b)))"
   ]
  },
  {
   "cell_type": "code",
   "execution_count": null,
   "metadata": {},
   "outputs": [],
   "source": [
    "#A+B-8\n",
    "n = int(input())\n",
    "\n",
    "for i in range(1, n+1) :\n",
    "    a, b = input().split()\n",
    "    print(\"Case #%d: %d + %d = %d\" %(i, int(a), int(b), int(a)+int(b)))"
   ]
  },
  {
   "cell_type": "code",
   "execution_count": null,
   "metadata": {},
   "outputs": [],
   "source": [
    "#별 찍기 -1\n",
    "n = int(input())\n",
    "\n",
    "for i in range(1, n+1):\n",
    "    for i in range(1, i+1):\n",
    "        print('*', end = '')\n",
    "    print()   "
   ]
  },
  {
   "cell_type": "code",
   "execution_count": null,
   "metadata": {},
   "outputs": [],
   "source": [
    "#별 찍기 -2\n",
    "n = int(input())\n",
    "\n",
    "for i in range(1, n+1):\n",
    "    for k in range(1, n+1-i):\n",
    "        print(' ', end = '')\n",
    "    for m in range(1, i+1):\n",
    "        print('*', end = '')\n",
    "    print()   "
   ]
  },
  {
   "cell_type": "code",
   "execution_count": null,
   "metadata": {},
   "outputs": [],
   "source": [
    "#X보다 작은 수\n",
    "n, x = input().split()\n",
    "n = int(n)\n",
    "x = int(x)\n",
    "\n",
    "k = list(map(int,input().split()))\n",
    "\n",
    "\n",
    "for t in range(n):\n",
    "    if k[t] < x :\n",
    "        print(k[t], end = ' ')"
   ]
  }
 ],
 "metadata": {
  "kernelspec": {
   "display_name": "Python 3",
   "language": "python",
   "name": "python3"
  },
  "language_info": {
   "codemirror_mode": {
    "name": "ipython",
    "version": 3
   },
   "file_extension": ".py",
   "mimetype": "text/x-python",
   "name": "python",
   "nbconvert_exporter": "python",
   "pygments_lexer": "ipython3",
   "version": "3.8.2"
  }
 },
 "nbformat": 4,
 "nbformat_minor": 4
}
