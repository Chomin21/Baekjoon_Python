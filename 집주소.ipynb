{
 "cells": [
  {
   "cell_type": "code",
   "execution_count": 7,
   "id": "fleet-insight",
   "metadata": {},
   "outputs": [
    {
     "name": "stdout",
     "output_type": "stream",
     "text": [
      "120\n",
      "5611\n",
      "100\n",
      "0\n",
      "13\n",
      "15\n",
      "14\n"
     ]
    }
   ],
   "source": [
    "#home address\n",
    "\n",
    "answer = []\n",
    "while True:\n",
    "    width = 2\n",
    "    \n",
    "    N = list(map(int, input()))    \n",
    "    if N[0] == 0:\n",
    "        break\n",
    "        \n",
    "    for i in N:\n",
    "        if i == 1:\n",
    "            width += 2\n",
    "        elif i == 0:\n",
    "            width += 4\n",
    "        else:\n",
    "            width += 3\n",
    "        \n",
    "    width += len(N) - 1\n",
    "    answer.append(width)\n",
    "    \n",
    "for k in answer:\n",
    "    print(k)"
   ]
  },
  {
   "cell_type": "code",
   "execution_count": null,
   "id": "sharing-parliament",
   "metadata": {},
   "outputs": [],
   "source": []
  }
 ],
 "metadata": {
  "kernelspec": {
   "display_name": "Python 3",
   "language": "python",
   "name": "python3"
  },
  "language_info": {
   "codemirror_mode": {
    "name": "ipython",
    "version": 3
   },
   "file_extension": ".py",
   "mimetype": "text/x-python",
   "name": "python",
   "nbconvert_exporter": "python",
   "pygments_lexer": "ipython3",
   "version": "3.9.1"
  }
 },
 "nbformat": 4,
 "nbformat_minor": 5
}
