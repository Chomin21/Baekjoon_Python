{
 "cells": [
  {
   "cell_type": "code",
   "execution_count": 1,
   "id": "charitable-enemy",
   "metadata": {},
   "outputs": [
    {
     "name": "stdout",
     "output_type": "stream",
     "text": [
      "How are you today?\n",
      "Quite well, thank you, how about yourself?\n",
      "I live at number twenty four.\n",
      "#\n",
      "7\n",
      "14\n",
      "9\n"
     ]
    }
   ],
   "source": [
    "word = ['a', 'e', 'i', 'o','u']\n",
    "\n",
    "answer = []\n",
    "while True:\n",
    "    n = input()\n",
    "    \n",
    "    if n == '#':\n",
    "        break\n",
    "    \n",
    "    n = n.lower()\n",
    "    count = 0\n",
    "    for i in n:\n",
    "        if i in word:\n",
    "            count += 1\n",
    "    answer.append(count)\n",
    "    \n",
    "if len(answer) == 0:\n",
    "    print(0)\n",
    "else:\n",
    "    for t in answer:\n",
    "        print(t)"
   ]
  },
  {
   "cell_type": "code",
   "execution_count": null,
   "id": "organizational-rebound",
   "metadata": {},
   "outputs": [],
   "source": []
  }
 ],
 "metadata": {
  "kernelspec": {
   "display_name": "Python 3",
   "language": "python",
   "name": "python3"
  },
  "language_info": {
   "codemirror_mode": {
    "name": "ipython",
    "version": 3
   },
   "file_extension": ".py",
   "mimetype": "text/x-python",
   "name": "python",
   "nbconvert_exporter": "python",
   "pygments_lexer": "ipython3",
   "version": "3.9.1"
  }
 },
 "nbformat": 4,
 "nbformat_minor": 5
}
