{
 "cells": [
  {
   "cell_type": "code",
   "execution_count": 36,
   "metadata": {},
   "outputs": [
    {
     "name": "stdout",
     "output_type": "stream",
     "text": [
      "6 8\n",
      "6\n"
     ]
    }
   ],
   "source": [
    "#food critic\n",
    "\n",
    "from math import gcd\n",
    "\n",
    "N, M = map(int, input().split())\n",
    "\n",
    "count = 0\n",
    "\n",
    "def lcm(x, y): #최소공배수\n",
    "    return x * y // gcd(x, y)\n",
    "\n",
    "#자르지 않아도 되는 경우\n",
    "if (N > M and N % M == 0) or N == M: #소시지 4개, 사람 2명 or 소시지 갯수 = 사람 수\n",
    "    count = 0\n",
    "else:\n",
    "    while N > M:\n",
    "        N -= M\n",
    "\n",
    "    if M % N == 0: #소시지 2개, 사람 4명\n",
    "        count = M // N - 1\n",
    "        count *= N\n",
    "    else: #소시지를 하나로 이어붙이고 모든 소시지들을 다 인원수로 쪼갬. \n",
    "    #총 소시지 조각을 최소공배수로 나눠서 나온 몫은 자를 필요없는 소시지 부분.(원래 분리되어있던 소시지 부분)\n",
    "        count = M - (N*M // lcm(N, M))\n",
    "    \n",
    "print(count)"
   ]
  },
  {
   "cell_type": "code",
   "execution_count": null,
   "metadata": {},
   "outputs": [],
   "source": [
    "#최대공약수로 푼 답안.\n",
    "#잘 이해는 안감.\n",
    "\n",
    "n,m = map(int,input().split())\n",
    "def gcd(a,b):\n",
    "    if a % b == 0:\n",
    "        return b\n",
    "    return gcd(b,a % b)\n",
    "print(m - gcd(n, m))"
   ]
  }
 ],
 "metadata": {
  "kernelspec": {
   "display_name": "Python 3",
   "language": "python",
   "name": "python3"
  },
  "language_info": {
   "codemirror_mode": {
    "name": "ipython",
    "version": 3
   },
   "file_extension": ".py",
   "mimetype": "text/x-python",
   "name": "python",
   "nbconvert_exporter": "python",
   "pygments_lexer": "ipython3",
   "version": "3.8.2"
  }
 },
 "nbformat": 4,
 "nbformat_minor": 5
}
