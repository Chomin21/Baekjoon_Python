{
 "cells": [
  {
   "cell_type": "code",
   "execution_count": 2,
   "id": "educated-coffee",
   "metadata": {},
   "outputs": [
    {
     "name": "stdout",
     "output_type": "stream",
     "text": [
      "yellow\n",
      "violet\n",
      "red\n",
      "4700\n"
     ]
    }
   ],
   "source": [
    "a = input()\n",
    "b = input()\n",
    "c = input()\n",
    "\n",
    "color = ['black', 'brown', 'red', 'orange', 'yellow', 'green', 'blue', 'violet', 'grey', 'white']\n",
    "answer = \"\"\n",
    "\n",
    "for i in range(10):\n",
    "    if a == color[i]:\n",
    "        answer += str(i)\n",
    "        for k in range(10):\n",
    "            if b == color[k]:\n",
    "                answer += str(k)\n",
    "                for t in range(10):\n",
    "                    if c == color[t]:\n",
    "                        answer = int(answer) * (10**t)\n",
    "                        break\n",
    "                break\n",
    "        break\n",
    "        \n",
    "print(answer)"
   ]
  },
  {
   "cell_type": "code",
   "execution_count": null,
   "id": "several-ordering",
   "metadata": {},
   "outputs": [],
   "source": [
    "#다른 사람 풀이\n",
    "\n",
    "dict_res={'black':0,'brown':1,'red':2,'orange':3,'yellow':4,'green':5,'blue':6,'violet':7,'grey':8,'white':9}\n",
    "\n",
    "#바로 입력 받기\n",
    "a = dict_res[input()]\n",
    "b = dict_res[input()]\n",
    "c = dict_res[input()]\n",
    "\n",
    "ans=10*a+b\n",
    "\n",
    "for i in range(c):\n",
    "    ans*=10\n",
    "print(ans)"
   ]
  }
 ],
 "metadata": {
  "kernelspec": {
   "display_name": "Python 3",
   "language": "python",
   "name": "python3"
  },
  "language_info": {
   "codemirror_mode": {
    "name": "ipython",
    "version": 3
   },
   "file_extension": ".py",
   "mimetype": "text/x-python",
   "name": "python",
   "nbconvert_exporter": "python",
   "pygments_lexer": "ipython3",
   "version": "3.9.1"
  }
 },
 "nbformat": 4,
 "nbformat_minor": 5
}
