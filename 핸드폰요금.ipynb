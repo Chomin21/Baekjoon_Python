{
 "cells": [
  {
   "cell_type": "code",
   "execution_count": 7,
   "metadata": {},
   "outputs": [
    {
     "name": "stdout",
     "output_type": "stream",
     "text": [
      "1\n",
      "30\n",
      "M 15\n"
     ]
    }
   ],
   "source": [
    "#phone bill\n",
    "\n",
    "N = int(input())\n",
    "call_list = []\n",
    "\n",
    "call_list = list(map(int, input().split()))\n",
    "\n",
    "answer = []\n",
    "count_y = 0\n",
    "count_m = 0\n",
    "\n",
    "for call in call_list:\n",
    "    count_y += (call // 30 + 1)\n",
    "    count_m += (call // 60 + 1)\n",
    "        \n",
    "answer.append(count_y * 10)\n",
    "answer.append(count_m * 15)\n",
    "\n",
    "if answer[0] == answer[1]:\n",
    "    print('Y M', answer[0])\n",
    "elif answer[0] < answer[1]:\n",
    "    print('Y', answer[0])\n",
    "else:\n",
    "    print('M', answer[1])"
   ]
  },
  {
   "cell_type": "code",
   "execution_count": null,
   "metadata": {},
   "outputs": [],
   "source": []
  }
 ],
 "metadata": {
  "kernelspec": {
   "display_name": "Python 3",
   "language": "python",
   "name": "python3"
  },
  "language_info": {
   "codemirror_mode": {
    "name": "ipython",
    "version": 3
   },
   "file_extension": ".py",
   "mimetype": "text/x-python",
   "name": "python",
   "nbconvert_exporter": "python",
   "pygments_lexer": "ipython3",
   "version": "3.8.2"
  }
 },
 "nbformat": 4,
 "nbformat_minor": 4
}
