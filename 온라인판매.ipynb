{
 "cells": [
  {
   "cell_type": "code",
   "execution_count": 3,
   "id": "satisfactory-phone",
   "metadata": {},
   "outputs": [
    {
     "name": "stdout",
     "output_type": "stream",
     "text": [
      "5 4\n",
      "2\n",
      "8\n",
      "10\n",
      "7\n",
      "p_list :  [10, 8, 7, 2]\n",
      "total :  [10, 16, 21, 8]\n",
      "7 21\n"
     ]
    }
   ],
   "source": [
    "#online selling\n",
    "\n",
    "N, M = map(int, input().split())\n",
    "\n",
    "p_list = []\n",
    "total = [0] * M\n",
    "\n",
    "for _ in range(M):\n",
    "    p_list.append(int(input()))\n",
    "\n",
    "p_list.sort(reverse = True)\n",
    "\n",
    "for i in range(M):\n",
    "    count = 0\n",
    "    for t in range(M):\n",
    "        if p_list[i] <= p_list[t]:\n",
    "            total[i] += p_list[i]\n",
    "            count += 1\n",
    "        if count == N:\n",
    "            break\n",
    "\n",
    "print(p_list[total.index(max(total))], end = ' ')\n",
    "print(max(total))\n",
    "            "
   ]
  },
  {
   "cell_type": "code",
   "execution_count": null,
   "id": "liquid-recovery",
   "metadata": {},
   "outputs": [],
   "source": []
  }
 ],
 "metadata": {
  "kernelspec": {
   "display_name": "Python 3",
   "language": "python",
   "name": "python3"
  },
  "language_info": {
   "codemirror_mode": {
    "name": "ipython",
    "version": 3
   },
   "file_extension": ".py",
   "mimetype": "text/x-python",
   "name": "python",
   "nbconvert_exporter": "python",
   "pygments_lexer": "ipython3",
   "version": "3.9.1"
  }
 },
 "nbformat": 4,
 "nbformat_minor": 5
}
