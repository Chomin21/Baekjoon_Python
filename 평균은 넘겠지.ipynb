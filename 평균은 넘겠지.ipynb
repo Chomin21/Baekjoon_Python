{
 "cells": [
  {
   "cell_type": "code",
   "execution_count": 1,
   "metadata": {},
   "outputs": [
    {
     "name": "stdout",
     "output_type": "stream",
     "text": [
      "5\n",
      "5 50 50 70 80 100\n",
      "7 100 95 90 80 70 60 50\n",
      "3 70 90 80\n",
      "3 70 90 81\n",
      "9 100 99 98 97 96 95 94 93 91\n",
      "40.000%\n",
      "57.143%\n",
      "33.333%\n",
      "66.667%\n",
      "55.556%\n"
     ]
    }
   ],
   "source": [
    "n = int(input())\n",
    "scores = []\n",
    "for i in range(n):\n",
    "    score_k = map(int,input().split())\n",
    "    scores.append(score_k)\n",
    "\n",
    "for k in range(n):\n",
    "    scores[k] = list(scores[k])\n",
    "\n",
    "aver = []\n",
    "\n",
    "for t in range(n):\n",
    "    sum = 0\n",
    "    for m in range(1, scores[t][0]+1):\n",
    "        sum += scores[t][m]\n",
    "    aver.append(sum/scores[t][0])\n",
    "        \n",
    "for i in range(n):\n",
    "    count = 0\n",
    "    for x in scores[i]:\n",
    "        if x == scores[i][0]:\n",
    "            continue\n",
    "        elif x > aver[i]:\n",
    "            count += 1\n",
    "    print(\"%.3f%%\" %(round(count / scores[i][0] * 100, 3)))"
   ]
  },
  {
   "cell_type": "code",
   "execution_count": null,
   "metadata": {},
   "outputs": [],
   "source": []
  }
 ],
 "metadata": {
  "kernelspec": {
   "display_name": "Python 3",
   "language": "python",
   "name": "python3"
  },
  "language_info": {
   "codemirror_mode": {
    "name": "ipython",
    "version": 3
   },
   "file_extension": ".py",
   "mimetype": "text/x-python",
   "name": "python",
   "nbconvert_exporter": "python",
   "pygments_lexer": "ipython3",
   "version": "3.8.2"
  }
 },
 "nbformat": 4,
 "nbformat_minor": 4
}
