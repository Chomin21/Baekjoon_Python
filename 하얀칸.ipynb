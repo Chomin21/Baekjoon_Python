{
 "cells": [
  {
   "cell_type": "code",
   "execution_count": 1,
   "id": "employed-franklin",
   "metadata": {},
   "outputs": [
    {
     "name": "stdout",
     "output_type": "stream",
     "text": [
      ".F.F...F\n",
      "F...F.F.\n",
      "...F.F.F\n",
      "F.F...F.\n",
      ".F...F..\n",
      "F...F.F.\n",
      ".F.F.F.F\n",
      "..FF..F.\n",
      "..FF..F.\n",
      "1\n"
     ]
    }
   ],
   "source": [
    "#white compartment\n",
    "\n",
    "count = 0\n",
    "for i in range(1, 9):\n",
    "    #체스판 상태 입력 받기\n",
    "    chess = input()\n",
    "    \n",
    "    #홀수 줄 인 경우\n",
    "    if i % 2 == 1:\n",
    "        for k in range(1, 9):\n",
    "            #홀수번째가 흰색\n",
    "            if k % 2 == 1 and chess[k-1] == 'F':\n",
    "                count += 1\n",
    "            else:\n",
    "                continue\n",
    "    else:\n",
    "        for t in range(1, 9):\n",
    "            #짝수번째가 흰색\n",
    "            if t % 2 == 0 and chess[t-1] == 'F':\n",
    "                count += 1\n",
    "            else:\n",
    "                continue\n",
    "                \n",
    "print(count)\n"
   ]
  },
  {
   "cell_type": "code",
   "execution_count": null,
   "id": "furnished-ratio",
   "metadata": {},
   "outputs": [],
   "source": []
  }
 ],
 "metadata": {
  "kernelspec": {
   "display_name": "Python 3",
   "language": "python",
   "name": "python3"
  },
  "language_info": {
   "codemirror_mode": {
    "name": "ipython",
    "version": 3
   },
   "file_extension": ".py",
   "mimetype": "text/x-python",
   "name": "python",
   "nbconvert_exporter": "python",
   "pygments_lexer": "ipython3",
   "version": "3.9.1"
  }
 },
 "nbformat": 4,
 "nbformat_minor": 5
}
