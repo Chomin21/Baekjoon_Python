{
 "cells": [
  {
   "cell_type": "code",
   "execution_count": 10,
   "metadata": {},
   "outputs": [
    {
     "name": "stdout",
     "output_type": "stream",
     "text": [
      "1\n",
      "1\n"
     ]
    }
   ],
   "source": [
    "n = int(input())\n",
    "\n",
    "front1 = 0\n",
    "front2 = 1\n",
    "count = 2\n",
    "\n",
    "if n == 0:\n",
    "    print(0)\n",
    "elif n == 1:\n",
    "    print(1)\n",
    "else:\n",
    "    while n >= count:\n",
    "        answer = front1 + front2\n",
    "    \n",
    "        if count == n:\n",
    "            print(answer)\n",
    "        front1 = front2\n",
    "        front2 = answer\n",
    "    \n",
    "        count += 1"
   ]
  },
  {
   "cell_type": "code",
   "execution_count": null,
   "metadata": {},
   "outputs": [],
   "source": []
  }
 ],
 "metadata": {
  "kernelspec": {
   "display_name": "Python 3",
   "language": "python",
   "name": "python3"
  },
  "language_info": {
   "codemirror_mode": {
    "name": "ipython",
    "version": 3
   },
   "file_extension": ".py",
   "mimetype": "text/x-python",
   "name": "python",
   "nbconvert_exporter": "python",
   "pygments_lexer": "ipython3",
   "version": "3.8.2"
  }
 },
 "nbformat": 4,
 "nbformat_minor": 4
}
