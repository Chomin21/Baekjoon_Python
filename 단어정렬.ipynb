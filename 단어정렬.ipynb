{
 "cells": [
  {
   "cell_type": "code",
   "execution_count": 7,
   "id": "painful-apartment",
   "metadata": {},
   "outputs": [
    {
     "name": "stdout",
     "output_type": "stream",
     "text": [
      "13\n",
      "but\n",
      "u\n",
      "wont\n",
      "hesitate\n",
      "no\n",
      "more\n",
      "no\n",
      "more\n",
      "it\n",
      "cannot\n",
      "wait\n",
      "im\n",
      "yours\n",
      "u\n",
      "im\n",
      "it\n",
      "no\n",
      "but\n",
      "more\n",
      "wait\n",
      "wont\n",
      "yours\n",
      "cannot\n",
      "hesitate\n"
     ]
    }
   ],
   "source": [
    "#sort words\n",
    "\n",
    "n = int(input())\n",
    "word_list = []\n",
    "\n",
    "for i in range(n):\n",
    "    word_list.append(input())\n",
    "    \n",
    "word_list = set(word_list) #중복 제거\n",
    "word_list = list(word_list)\n",
    "word_list.sort(key = lambda x : (len(x), x)) #길이순 정렬 -> 사전순 정렬\n",
    "\n",
    "for k in word_list:\n",
    "    print(k)"
   ]
  },
  {
   "cell_type": "code",
   "execution_count": null,
   "id": "offshore-differential",
   "metadata": {},
   "outputs": [],
   "source": []
  }
 ],
 "metadata": {
  "kernelspec": {
   "display_name": "Python 3",
   "language": "python",
   "name": "python3"
  },
  "language_info": {
   "codemirror_mode": {
    "name": "ipython",
    "version": 3
   },
   "file_extension": ".py",
   "mimetype": "text/x-python",
   "name": "python",
   "nbconvert_exporter": "python",
   "pygments_lexer": "ipython3",
   "version": "3.9.1"
  }
 },
 "nbformat": 4,
 "nbformat_minor": 5
}
