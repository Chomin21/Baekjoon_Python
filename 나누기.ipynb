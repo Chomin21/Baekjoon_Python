{
 "cells": [
  {
   "cell_type": "code",
   "execution_count": 14,
   "id": "exotic-broad",
   "metadata": {},
   "outputs": [
    {
     "name": "stdout",
     "output_type": "stream",
     "text": [
      "1003\n",
      "23\n",
      "12\n"
     ]
    }
   ],
   "source": [
    "N = input()\n",
    "F = int(input())\n",
    "n = \"\"\n",
    "\n",
    "#뒤 두자리를 모두 0으로 만들기\n",
    "for i in range(len(N)-2):\n",
    "    n += N[i]\n",
    "n += '00'\n",
    "\n",
    "n = int(n)\n",
    "count = 0\n",
    "while True:\n",
    "    if n % F == 0:\n",
    "        break\n",
    "    n += 1\n",
    "    count += 1\n",
    "    \n",
    "if count < 10:\n",
    "    count = '0' + str(count)\n",
    "    print(count)\n",
    "else:\n",
    "    print(count)"
   ]
  },
  {
   "cell_type": "code",
   "execution_count": 15,
   "id": "false-appearance",
   "metadata": {},
   "outputs": [
    {
     "name": "stdout",
     "output_type": "stream",
     "text": [
      "1003\n",
      "23\n",
      "12\n"
     ]
    }
   ],
   "source": [
    "N = input()\n",
    "F = int(input())\n",
    "n = \"\"\n",
    "\n",
    "#뒤 두자리를 모두 0으로 만들기\n",
    "for i in range(len(N)-2):\n",
    "    n += N[i]\n",
    "n += '00'\n",
    "\n",
    "m = int(n)\n",
    "while True:\n",
    "    if m % F == 0:\n",
    "        break\n",
    "    m += 1\n",
    "    \n",
    "k = m - int(n)\n",
    "if k < 10:\n",
    "    k = '0' + str(k)\n",
    "    print(k)\n",
    "else:\n",
    "    print(k)"
   ]
  },
  {
   "cell_type": "code",
   "execution_count": null,
   "id": "bigger-junior",
   "metadata": {},
   "outputs": [],
   "source": []
  }
 ],
 "metadata": {
  "kernelspec": {
   "display_name": "Python 3",
   "language": "python",
   "name": "python3"
  },
  "language_info": {
   "codemirror_mode": {
    "name": "ipython",
    "version": 3
   },
   "file_extension": ".py",
   "mimetype": "text/x-python",
   "name": "python",
   "nbconvert_exporter": "python",
   "pygments_lexer": "ipython3",
   "version": "3.9.1"
  }
 },
 "nbformat": 4,
 "nbformat_minor": 5
}
