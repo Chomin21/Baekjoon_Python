{
 "cells": [
  {
   "cell_type": "code",
   "execution_count": 14,
   "metadata": {},
   "outputs": [
    {
     "name": "stdout",
     "output_type": "stream",
     "text": [
      "5\n",
      "20 10 35 30 7\n",
      "7 35\n"
     ]
    }
   ],
   "source": [
    "#최소, 최대\n",
    "n = int(input())\n",
    "k = list(map(int, input().split()))\n",
    "min = k[0]\n",
    "max = k[0]\n",
    "\n",
    "for i in k:\n",
    "    if min > i:\n",
    "        min = i\n",
    "    else:\n",
    "        min = min\n",
    "for i in k:\n",
    "    if max < i:\n",
    "        max = i\n",
    "    else:\n",
    "        max = max\n",
    "    \n",
    "print(\"%d %d\" %(min, max))\n",
    "\n",
    "#print(\"%d %d\" %(min(k), max(k)))\n"
   ]
  },
  {
   "cell_type": "code",
   "execution_count": 20,
   "metadata": {},
   "outputs": [
    {
     "name": "stdout",
     "output_type": "stream",
     "text": [
      "3\n",
      "29\n",
      "38\n",
      "12\n",
      "57\n",
      "74\n",
      "40\n",
      "85\n",
      "61\n",
      "85\n",
      "8\n"
     ]
    }
   ],
   "source": [
    "#최댓값\n",
    "k = []\n",
    "for i in range(9):\n",
    "    m = int(input())\n",
    "    k.append(m)\n",
    "\n",
    "max = k[0]\n",
    "m = 0\n",
    "\n",
    "for i in k:\n",
    "    if max < i:\n",
    "        max = i\n",
    "    else:\n",
    "        max = max\n",
    "        \n",
    "for i in k:\n",
    "    m = m+1\n",
    "    if i == max:\n",
    "        count = m\n",
    "\n",
    "print(max)\n",
    "print(count)\n",
    "\n",
    "#print(max(k))\n",
    "#print(k.index(max(k)))"
   ]
  },
  {
   "cell_type": "code",
   "execution_count": 23,
   "metadata": {
    "scrolled": true
   },
   "outputs": [
    {
     "name": "stdout",
     "output_type": "stream",
     "text": [
      "150\n",
      "266\n",
      "427\n",
      "3\n",
      "1\n",
      "0\n",
      "2\n",
      "0\n",
      "0\n",
      "0\n",
      "2\n",
      "0\n",
      "0\n"
     ]
    }
   ],
   "source": [
    "#숫자의 개수\n",
    "a = int(input())\n",
    "b = int(input())\n",
    "c = int(input())\n",
    "\n",
    "k = a*b*c\n",
    "m = []\n",
    "t = [0,0,0,0,0,0,0,0,0,0]\n",
    "\n",
    "while k > 0:\n",
    "    m.append(k%10)\n",
    "    k = k//10\n",
    "    \n",
    "for i in range(10):\n",
    "    for r in m:\n",
    "        if i == r:\n",
    "            t[i] = t[i]+1\n",
    "\n",
    "for i in range(10):\n",
    "    print(t[i])"
   ]
  },
  {
   "cell_type": "code",
   "execution_count": null,
   "metadata": {
    "scrolled": false
   },
   "outputs": [
    {
     "name": "stdout",
     "output_type": "stream",
     "text": [
      "42\n",
      "84\n",
      "252\n",
      "420\n",
      "840\n",
      "126\n",
      "42\n",
      "84\n"
     ]
    }
   ],
   "source": [
    "#나머지\n",
    "write = []\n",
    "\n",
    "for i in range(10):\n",
    "    m = int(input())\n",
    "    write.append(m)\n",
    "\n",
    "rest = []\n",
    "\n",
    "for r in write: \n",
    "    rest.append(r%42)\n",
    "\n",
    "uniq = []\n",
    "\n",
    "for i in rest:\n",
    "    if i in uniq:\n",
    "        continue\n",
    "    else:\n",
    "        uniq.append(i)\n",
    "\n",
    "'''\n",
    "e = 0\n",
    "while e < len(rest):   \n",
    "    if len(uniq) == 0:\n",
    "        uniq.append(rest[e])\n",
    "        e = e + 1\n",
    "        continue\n",
    "    \n",
    "    b = 0\n",
    "    while b < len(uniq):\n",
    "        if  uniq[b] == e:\n",
    "            break;\n",
    "        b = b + 1\n",
    "        if b == len(uniq):\n",
    "            uniq.append(e)\n",
    "    e = e + 1'''\n",
    "    \n",
    "print(len(uniq))\n",
    "    "
   ]
  },
  {
   "cell_type": "code",
   "execution_count": 18,
   "metadata": {
    "scrolled": true
   },
   "outputs": [
    {
     "name": "stdout",
     "output_type": "stream",
     "text": [
      "3\n",
      "10 20 30\n",
      "66.66666666666667\n"
     ]
    }
   ],
   "source": [
    "#평균\n",
    "n = int(input())\n",
    "score = list(map(float, input().split()))\n",
    "max = max(score)\n",
    "for i in range(n):\n",
    "    score[i] = score[i]/max*100\n",
    "    \n",
    "aver = sum(score)/n\n",
    "print(aver)"
   ]
  },
  {
   "cell_type": "code",
   "execution_count": null,
   "metadata": {},
   "outputs": [],
   "source": [
    "#OX퀴즈\n",
    "def ox_quiz(ox_list):\n",
    "    count = 1\n",
    "    sum = 0\n",
    "    \n",
    "    for i in ox_list:\n",
    "        if i == 'X':\n",
    "            count = 1\n",
    "            continue\n",
    "        else:\n",
    "            if i == 'O':\n",
    "                sum += count\n",
    "                count += 1\n",
    "    return sum \n",
    "\n",
    "num = int(input())\n",
    "ox_list = []\n",
    "\n",
    "for i in range(num):\n",
    "    ox_list.append(list(input()))\n",
    "for k in range(num):\n",
    "    print(ox_quiz(ox_list[k]))\n",
    "                "
   ]
  },
  {
   "cell_type": "code",
   "execution_count": null,
   "metadata": {},
   "outputs": [],
   "source": [
    "#평균은 넘겠지\n",
    "n = int(input())\n",
    "scores = []\n",
    "for i in range(n):\n",
    "    score_k = map(int,input().split())\n",
    "    scores.append(score_k)\n",
    "\n",
    "for k in range(n):\n",
    "    scores[k] = list(scores[k])\n",
    "\n",
    "aver = []\n",
    "\n",
    "for t in range(n):\n",
    "    sum = 0\n",
    "    for m in range(1, scores[t][0]+1):\n",
    "        sum += scores[t][m]\n",
    "    aver.append(sum/scores[t][0])\n",
    "        \n",
    "for i in range(n):\n",
    "    count = 0\n",
    "    for x in scores[i]:\n",
    "        if x == scores[i][0]:\n",
    "            continue\n",
    "        elif x > aver[i]:\n",
    "            count += 1\n",
    "    print(\"%.3f%%\" %(round(count / scores[i][0] * 100, 3)))\n"
   ]
  }
 ],
 "metadata": {
  "kernelspec": {
   "display_name": "Python 3",
   "language": "python",
   "name": "python3"
  },
  "language_info": {
   "codemirror_mode": {
    "name": "ipython",
    "version": 3
   },
   "file_extension": ".py",
   "mimetype": "text/x-python",
   "name": "python",
   "nbconvert_exporter": "python",
   "pygments_lexer": "ipython3",
   "version": "3.8.2"
  }
 },
 "nbformat": 4,
 "nbformat_minor": 4
}
