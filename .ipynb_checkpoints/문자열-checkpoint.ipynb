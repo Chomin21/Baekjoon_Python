{
 "cells": [
  {
   "cell_type": "code",
   "execution_count": 1,
   "metadata": {},
   "outputs": [
    {
     "name": "stdout",
     "output_type": "stream",
     "text": [
      "A\n",
      "65\n"
     ]
    }
   ],
   "source": [
    "n = input()\n",
    "print(ord(n))"
   ]
  },
  {
   "cell_type": "code",
   "execution_count": 3,
   "metadata": {},
   "outputs": [
    {
     "name": "stdout",
     "output_type": "stream",
     "text": [
      "5\n",
      "54321\n",
      "15\n"
     ]
    }
   ],
   "source": [
    "n = int(input())\n",
    "\n",
    "aaa = input()\n",
    "bbb = []\n",
    "\n",
    "for i in aaa:\n",
    "    bbb.append(int(i))\n",
    "\n",
    "sum = 0\n",
    "for i in bbb:\n",
    "    sum = sum + i\n",
    "\n",
    "print(sum)\n"
   ]
  },
  {
   "cell_type": "code",
   "execution_count": 8,
   "metadata": {},
   "outputs": [
    {
     "name": "stdout",
     "output_type": "stream",
     "text": [
      "baekjoon\n",
      "1 0 -1 -1 2 -1 -1 -1 -1 4 3 -1 -1 7 5 -1 -1 -1 -1 -1 -1 -1 -1 -1 -1 -1 "
     ]
    }
   ],
   "source": [
    "aaa = input()\n",
    "alphabet = ['a','b','c','d','e','f','g','h','i','j','k','l','m','n','o','p','q','r','s','t','u','v','w','x','y','z']\n",
    "for i in range(len(alphabet)):\n",
    "    if alphabet[i] in aaa:\n",
    "        k = aaa.index(alphabet[i])\n",
    "        alphabet[i] = k\n",
    "    else :\n",
    "        alphabet[i] = -1\n",
    "    \n",
    "for i in alphabet:\n",
    "    print(i, end =' ')"
   ]
  },
  {
   "cell_type": "code",
   "execution_count": 13,
   "metadata": {},
   "outputs": [
    {
     "name": "stdout",
     "output_type": "stream",
     "text": [
      "2\n",
      "3 ABC\n",
      "5 /HTP\n",
      "AAABBBCCC\n",
      "/////HHHHHTTTTTPPPPP\n"
     ]
    }
   ],
   "source": [
    "n = int(input())\n",
    "arr = []\n",
    "\n",
    "for i in range(n):\n",
    "    k, aaa = input().split()\n",
    "    arr.append([k, aaa])\n",
    "    \n",
    "for i in range(n):\n",
    "    k = int(arr[i][0])\n",
    "    for t in arr[i][1]:\n",
    "        for m in range(k):\n",
    "            print(t, end = '')\n",
    "    print()\n",
    "    \n"
   ]
  },
  {
   "cell_type": "code",
   "execution_count": 42,
   "metadata": {
    "scrolled": false
   },
   "outputs": [
    {
     "name": "stdout",
     "output_type": "stream",
     "text": [
      "baaa\n",
      "A\n"
     ]
    }
   ],
   "source": [
    "#풀었지만 시간초과\n",
    "aaa = input()\n",
    "aaa = aaa.upper()\n",
    "count = []\n",
    "kkk = []\n",
    "last = []\n",
    "\n",
    "for i in aaa:\n",
    "    k = aaa.count(i)\n",
    "    count.append([i, k])\n",
    "    kkk.append(k)\n",
    "\n",
    "for i in range(len(aaa)):\n",
    "    if count[i][1] == max(kkk):\n",
    "        last.append(count[i][0])\n",
    "\n",
    "set_list = set(last)\n",
    "\n",
    "if len(set_list) > 1:\n",
    "    print('?')\n",
    "else:\n",
    "    print(list(set_list)[0])\n"
   ]
  },
  {
   "cell_type": "code",
   "execution_count": 43,
   "metadata": {},
   "outputs": [
    {
     "name": "stdout",
     "output_type": "stream",
     "text": [
      "Mississipi\n",
      "?\n",
      "I\n"
     ]
    }
   ],
   "source": [
    "#원준이 코드\n",
    "T = input()\n",
    "\n",
    "A = [0] * 26\n",
    "\n",
    "for i in T:\n",
    "    a = 0\n",
    "    j = ord(i)\n",
    "    if j in range(65, 91):\n",
    "        a = j - 65\n",
    "    elif j in range(97, 123):\n",
    "        a = j - 97\n",
    "    \n",
    "    A[a] += 1\n",
    "\n",
    "MAX = A[0]\n",
    "count = 0\n",
    "for i in range(26):\n",
    "    if MAX < A[i]:\n",
    "        MAX = A[i]\n",
    "        count = i\n",
    "\n",
    "for i in range(26):\n",
    "    if count != i:\n",
    "        if MAX == A[i]:\n",
    "            print('?')\n",
    "            quit()\n",
    "\n",
    "print(chr(count+65))"
   ]
  },
  {
   "cell_type": "code",
   "execution_count": 22,
   "metadata": {},
   "outputs": [
    {
     "name": "stdout",
     "output_type": "stream",
     "text": [
      "The Curious Case of Benjamin Button\n",
      "6\n"
     ]
    }
   ],
   "source": [
    "aaa = input().split()\n",
    "\n",
    "print(len(aaa))"
   ]
  },
  {
   "cell_type": "code",
   "execution_count": 25,
   "metadata": {},
   "outputs": [
    {
     "name": "stdout",
     "output_type": "stream",
     "text": [
      "734 893\n",
      "437\n"
     ]
    }
   ],
   "source": [
    "a, b = map(int, input().split())\n",
    "\n",
    "a = a//100 + (a%100//10)*10 + (a%10)*100\n",
    "b = b//100 + (b%100//10)*10 + (b%10)*100\n",
    "\n",
    "answer = []\n",
    "answer.append(a)\n",
    "answer.append(b)\n",
    "print(max(answer))\n"
   ]
  },
  {
   "cell_type": "code",
   "execution_count": 31,
   "metadata": {},
   "outputs": [
    {
     "name": "stdout",
     "output_type": "stream",
     "text": [
      "UNUCIC\n",
      "36\n"
     ]
    }
   ],
   "source": [
    "aaa = input()\n",
    "call = []\n",
    "\n",
    "for i in aaa:\n",
    "    if i == 'A' or i == 'B' or i == 'C':\n",
    "        call.append(3)\n",
    "    if i == 'D' or i == 'E' or i == 'F':\n",
    "        call.append(4)\n",
    "    if i == 'G' or i == 'H' or i == 'I':\n",
    "        call.append(5)\n",
    "    if i == 'J' or i == 'K' or i == 'L':\n",
    "        call.append(6)\n",
    "    if i == 'M' or i == 'N' or i == 'O':\n",
    "        call.append(7)\n",
    "    if i == 'P' or i == 'Q' or i == 'R' or i == 'S':\n",
    "        call.append(8)\n",
    "    if i == 'T' or i == 'U' or i == 'V':\n",
    "        call.append(9)\n",
    "    if i == 'W' or i == 'X' or i == 'Y' or i == 'Z':\n",
    "        call.append(10)\n",
    "        \n",
    "sum_ = 0\n",
    "for i in call:\n",
    "    sum_ = sum_ + i\n",
    "print(sum_)"
   ]
  },
  {
   "cell_type": "code",
   "execution_count": null,
   "metadata": {},
   "outputs": [],
   "source": []
  }
 ],
 "metadata": {
  "kernelspec": {
   "display_name": "Python 3",
   "language": "python",
   "name": "python3"
  },
  "language_info": {
   "codemirror_mode": {
    "name": "ipython",
    "version": 3
   },
   "file_extension": ".py",
   "mimetype": "text/x-python",
   "name": "python",
   "nbconvert_exporter": "python",
   "pygments_lexer": "ipython3",
   "version": "3.8.2"
  }
 },
 "nbformat": 4,
 "nbformat_minor": 4
}
