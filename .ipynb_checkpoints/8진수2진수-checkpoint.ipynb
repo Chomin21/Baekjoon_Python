{
 "cells": [
  {
   "cell_type": "code",
   "execution_count": 9,
   "metadata": {},
   "outputs": [
    {
     "name": "stdout",
     "output_type": "stream",
     "text": [
      "314\n",
      "11001100\n"
     ]
    }
   ],
   "source": [
    "#my solution\n",
    "\n",
    "n = input()\n",
    "\n",
    "#입력받은 문자열을 8진수 형태로 만들기\n",
    "n = '0o' + n\n",
    "\n",
    "#8진수를 10진수로 변환\n",
    "oc = int(n, 8)\n",
    "\n",
    "#10진수를 2진수로 변환\n",
    "binary = bin(oc)\n",
    "\n",
    "#앞의 두자리 제외하고 읽기\n",
    "answer = binary[2:]\n",
    "print(answer)"
   ]
  },
  {
   "cell_type": "code",
   "execution_count": 10,
   "metadata": {},
   "outputs": [
    {
     "name": "stdout",
     "output_type": "stream",
     "text": [
      "314\n",
      "11001100\n"
     ]
    }
   ],
   "source": [
    "#다른 사람 풀이\n",
    "\n",
    "a = int(input(), 8)\n",
    "print(bin(a)[2:])"
   ]
  },
  {
   "cell_type": "code",
   "execution_count": null,
   "metadata": {},
   "outputs": [],
   "source": []
  }
 ],
 "metadata": {
  "kernelspec": {
   "display_name": "Python 3",
   "language": "python",
   "name": "python3"
  },
  "language_info": {
   "codemirror_mode": {
    "name": "ipython",
    "version": 3
   },
   "file_extension": ".py",
   "mimetype": "text/x-python",
   "name": "python",
   "nbconvert_exporter": "python",
   "pygments_lexer": "ipython3",
   "version": "3.8.2"
  }
 },
 "nbformat": 4,
 "nbformat_minor": 4
}
