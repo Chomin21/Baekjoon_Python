{
 "cells": [
  {
   "cell_type": "code",
   "execution_count": 8,
   "metadata": {},
   "outputs": [
    {
     "name": "stdout",
     "output_type": "stream",
     "text": [
      "5\n",
      "OOXXOXXOOO\n",
      "OOXXOOXXOO\n",
      "OXOXOXOXOXOXOX\n",
      "OOOOOOOOOO\n",
      "OOOOXOOOOXOOOOX\n",
      "10\n",
      "9\n",
      "7\n",
      "55\n",
      "30\n"
     ]
    }
   ],
   "source": [
    "def ox_quiz(ox_list):\n",
    "    count = 1\n",
    "    sum = 0\n",
    "    \n",
    "    for i in ox_list:\n",
    "        if i == 'X':\n",
    "            count = 1\n",
    "            continue\n",
    "        else:\n",
    "            if i == 'O':\n",
    "                sum += count\n",
    "                count += 1\n",
    "    return sum \n",
    "\n",
    "num = int(input())\n",
    "ox_list = []\n",
    "\n",
    "for i in range(num):\n",
    "    ox_list.append(list(input()))\n",
    "for k in range(num):\n",
    "    print(ox_quiz(ox_list[k]))\n",
    "    "
   ]
  },
  {
   "cell_type": "code",
   "execution_count": null,
   "metadata": {},
   "outputs": [],
   "source": []
  }
 ],
 "metadata": {
  "kernelspec": {
   "display_name": "Python 3",
   "language": "python",
   "name": "python3"
  },
  "language_info": {
   "codemirror_mode": {
    "name": "ipython",
    "version": 3
   },
   "file_extension": ".py",
   "mimetype": "text/x-python",
   "name": "python",
   "nbconvert_exporter": "python",
   "pygments_lexer": "ipython3",
   "version": "3.8.2"
  }
 },
 "nbformat": 4,
 "nbformat_minor": 5
}
