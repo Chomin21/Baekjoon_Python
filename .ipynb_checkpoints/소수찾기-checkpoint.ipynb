{
 "cells": [
  {
   "cell_type": "code",
   "execution_count": 13,
   "metadata": {},
   "outputs": [
    {
     "name": "stdout",
     "output_type": "stream",
     "text": [
      "5\n",
      "2 5 10 11 17\n",
      "4\n"
     ]
    }
   ],
   "source": [
    "n = int(input())\n",
    "count = 0 #소수가 아닌 애들 뽑기\n",
    "\n",
    "n_list = list(map(int, input().split()))\n",
    "\n",
    "for num in n_list:\n",
    "    for m in range(2, n_list[n-1]+1):\n",
    "        if num == 1:\n",
    "            count += 1\n",
    "            break\n",
    "        elif num % m == 0 and num != m:\n",
    "            count += 1\n",
    "            break\n",
    "print(len(n_list) - count)\n"
   ]
  },
  {
   "cell_type": "code",
   "execution_count": null,
   "metadata": {},
   "outputs": [],
   "source": []
  }
 ],
 "metadata": {
  "kernelspec": {
   "display_name": "Python 3",
   "language": "python",
   "name": "python3"
  }
 },
 "nbformat": 4,
 "nbformat_minor": 4
}
