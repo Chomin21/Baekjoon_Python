{
 "cells": [
  {
   "cell_type": "code",
   "execution_count": 2,
   "metadata": {},
   "outputs": [
    {
     "name": "stdout",
     "output_type": "stream",
     "text": [
      "4 4\n",
      "...X\n",
      "...X\n",
      "...X\n",
      "...X\n",
      "[['.', '.', '.', 'X'], ['.', '.', '.', 'X'], ['.', '.', '.', 'X'], ['.', '.', '.', 'X']]\n",
      "3\n"
     ]
    }
   ],
   "source": [
    "#protecting castle\n",
    "\n",
    "N, M = map(int, input().split())\n",
    "\n",
    "castle = []\n",
    "for _ in range(N):\n",
    "    temp = list(input())\n",
    "    castle.append(temp)\n",
    "    \n",
    "check_row = [0] * N\n",
    "check_col = [0] * M\n",
    "\n",
    "for i in range(N):\n",
    "    for t in range(M):\n",
    "        if castle[i][t] == 'X':\n",
    "            check_row[i] = 1\n",
    "            check_col[t] = 1\n",
    "            \n",
    "count_row = check_row.count(0)\n",
    "count_col = check_col.count(0)\n",
    "\n",
    "answer = max(count_row, count_col)\n",
    "\n",
    "print(answer)"
   ]
  },
  {
   "cell_type": "code",
   "execution_count": null,
   "metadata": {},
   "outputs": [],
   "source": []
  }
 ],
 "metadata": {
  "kernelspec": {
   "display_name": "Python 3",
   "language": "python",
   "name": "python3"
  },
  "language_info": {
   "codemirror_mode": {
    "name": "ipython",
    "version": 3
   },
   "file_extension": ".py",
   "mimetype": "text/x-python",
   "name": "python",
   "nbconvert_exporter": "python",
   "pygments_lexer": "ipython3",
   "version": "3.8.2"
  }
 },
 "nbformat": 4,
 "nbformat_minor": 4
}
