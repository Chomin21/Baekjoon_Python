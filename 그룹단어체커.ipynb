{
 "cells": [
  {
   "cell_type": "code",
   "execution_count": 22,
   "id": "daily-administrator",
   "metadata": {},
   "outputs": [
    {
     "name": "stdout",
     "output_type": "stream",
     "text": [
      "3\n",
      "a\n",
      "aaba\n",
      "ccdv\n",
      "ccdv\n",
      "2\n"
     ]
    }
   ],
   "source": [
    "#group word checker\n",
    "\n",
    "n = int(input())\n",
    "word_list = []\n",
    "\n",
    "for _ in range(n):\n",
    "    word_list.append(input())\n",
    "\n",
    "count = 0\n",
    "\n",
    "for w in word_list:\n",
    "    temp = []\n",
    "    temp.append(w[0])\n",
    "    #단어 길이가 1인 경우\n",
    "    if len(w) == 1:\n",
    "        count += 1\n",
    "        continue\n",
    "    #그 외의 경우\n",
    "    else:\n",
    "        for t in range(1, len(w)):\n",
    "            #기존에 없던 문자면 temp에 추가\n",
    "            if w[t] not in temp:\n",
    "                temp.append(w[t])    \n",
    "            #기존에 있는 문자이면서 바로 앞의 문자와 다른 경우 == 그룹단어가 아님\n",
    "            elif (w[t] in temp) and (w[t] != w[t - 1]):\n",
    "                break\n",
    "            #그룹 단어인 경우\n",
    "            if t == len(w) - 1:\n",
    "                count += 1\n",
    "print(count)      "
   ]
  },
  {
   "cell_type": "code",
   "execution_count": null,
   "id": "improved-alloy",
   "metadata": {},
   "outputs": [],
   "source": []
  }
 ],
 "metadata": {
  "kernelspec": {
   "display_name": "Python 3",
   "language": "python",
   "name": "python3"
  },
  "language_info": {
   "codemirror_mode": {
    "name": "ipython",
    "version": 3
   },
   "file_extension": ".py",
   "mimetype": "text/x-python",
   "name": "python",
   "nbconvert_exporter": "python",
   "pygments_lexer": "ipython3",
   "version": "3.9.1"
  }
 },
 "nbformat": 4,
 "nbformat_minor": 5
}
