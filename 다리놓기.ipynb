{
 "cells": [
  {
   "cell_type": "code",
   "execution_count": 5,
   "id": "sunset-prairie",
   "metadata": {},
   "outputs": [
    {
     "name": "stdout",
     "output_type": "stream",
     "text": [
      "3\n",
      "2 2\n",
      "1 5\n",
      "13 29\n",
      "1\n",
      "5\n",
      "67863915\n"
     ]
    }
   ],
   "source": [
    "def bridge(west, east):\n",
    "    calc_west = 1\n",
    "    calc_east = 1\n",
    "    \n",
    "    if west == east:\n",
    "        return 1\n",
    "    \n",
    "    for i in range(west):\n",
    "        calc_east *= east\n",
    "        east -= 1\n",
    "        \n",
    "    for t in range(1, west + 1):\n",
    "        calc_west *= t\n",
    "        \n",
    "    total = calc_east // calc_west\n",
    "    \n",
    "    return total\n",
    "\n",
    "test = int(input())\n",
    "case = []\n",
    "\n",
    "for i in range(test):\n",
    "    case.append(list(map(int, input().split())))\n",
    "\n",
    "for k in case:\n",
    "    print(bridge(k[0], k[1]))\n",
    "    \n"
   ]
  },
  {
   "cell_type": "code",
   "execution_count": null,
   "id": "collaborative-opposition",
   "metadata": {},
   "outputs": [],
   "source": []
  }
 ],
 "metadata": {
  "kernelspec": {
   "display_name": "Python 3",
   "language": "python",
   "name": "python3"
  },
  "language_info": {
   "codemirror_mode": {
    "name": "ipython",
    "version": 3
   },
   "file_extension": ".py",
   "mimetype": "text/x-python",
   "name": "python",
   "nbconvert_exporter": "python",
   "pygments_lexer": "ipython3",
   "version": "3.9.1"
  }
 },
 "nbformat": 4,
 "nbformat_minor": 5
}
