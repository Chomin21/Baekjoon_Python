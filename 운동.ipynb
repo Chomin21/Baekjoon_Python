{
 "cells": [
  {
   "cell_type": "code",
   "execution_count": 4,
   "id": "steady-measurement",
   "metadata": {},
   "outputs": [
    {
     "name": "stdout",
     "output_type": "stream",
     "text": [
      "3 50 70 35 30\n",
      "-1\n"
     ]
    }
   ],
   "source": [
    "\n",
    "#운동해야하는 시간, 초기맥박, 넘으면 안되는 맥박, 운동하면 증가하는 맥박, 휴식하면 감소하는 맥박\n",
    "N, m, M, T, R = map(int, input().split())\n",
    "\n",
    "first_m = m\n",
    "time = 0 #정해진 운동 시간\n",
    "count = 0 #운동에 필요한 최소 시간\n",
    "\n",
    "while True:\n",
    "    #초기 맥박과 넘으면 안되는 맥박의 차이가 운동하면 증가하는 맥박보다 작은 경우 = 운동을 하지 못하는 경우\n",
    "    if M - first_m < T:\n",
    "        print(-1)\n",
    "        break\n",
    "    \n",
    "    if m <= M - T:\n",
    "        m += T\n",
    "        time += 1\n",
    "    elif m > M - T:\n",
    "        if m - R < first_m:\n",
    "            m = first_m\n",
    "        else:\n",
    "            m -= R\n",
    "    count += 1\n",
    "    \n",
    "    if time == N:\n",
    "        print(count)\n",
    "        break"
   ]
  },
  {
   "cell_type": "code",
   "execution_count": null,
   "id": "living-cologne",
   "metadata": {},
   "outputs": [],
   "source": []
  }
 ],
 "metadata": {
  "kernelspec": {
   "display_name": "Python 3",
   "language": "python",
   "name": "python3"
  },
  "language_info": {
   "codemirror_mode": {
    "name": "ipython",
    "version": 3
   },
   "file_extension": ".py",
   "mimetype": "text/x-python",
   "name": "python",
   "nbconvert_exporter": "python",
   "pygments_lexer": "ipython3",
   "version": "3.9.1"
  }
 },
 "nbformat": 4,
 "nbformat_minor": 5
}
