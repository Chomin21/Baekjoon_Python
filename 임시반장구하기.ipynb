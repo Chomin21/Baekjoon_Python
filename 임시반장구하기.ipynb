{
 "cells": [
  {
   "cell_type": "code",
   "execution_count": 12,
   "id": "persistent-shore",
   "metadata": {},
   "outputs": [
    {
     "name": "stdout",
     "output_type": "stream",
     "text": [
      "5\n",
      "2 3 1 7 3\n",
      "4 1 9 6 8\n",
      "5 5 2 4 4\n",
      "6 5 2 6 7\n",
      "8 4 2 2 2\n",
      "4\n"
     ]
    }
   ],
   "source": [
    "n = int(input())\n",
    "\n",
    "student = [[] for _ in range(n)]\n",
    "matrix = []\n",
    "for _ in range(n):\n",
    "    matrix.append(list(map(int, input().split())))\n",
    "    \n",
    "#각각의 요소들을 리스트형태로 전치시키기\n",
    "matrix = [list(x) for x in zip(*matrix)]\n",
    "\n",
    "#학년별로 같은 반 친구가 있었는지 확인\n",
    "for grade in matrix:\n",
    "    for i in range(n):\n",
    "        for t in range(i + 1, n):\n",
    "            #같은 반이었던 친구는 모두 해당 학생의 리스트에 넣기\n",
    "            if grade[i] == grade[t] :\n",
    "                student[i].append(t)\n",
    "                student[t].append(i)\n",
    "                \n",
    "#친구가 중복될 수 있으므로 중복 제거하고 셈\n",
    "student = [len(set(m)) for m in student]\n",
    "                \n",
    "if max(student) == 0:\n",
    "    print(1)\n",
    "else:\n",
    "    print(student.index(max(student)) + 1)\n",
    "        \n"
   ]
  },
  {
   "cell_type": "code",
   "execution_count": null,
   "id": "patient-contemporary",
   "metadata": {},
   "outputs": [],
   "source": []
  }
 ],
 "metadata": {
  "kernelspec": {
   "display_name": "Python 3",
   "language": "python",
   "name": "python3"
  },
  "language_info": {
   "codemirror_mode": {
    "name": "ipython",
    "version": 3
   },
   "file_extension": ".py",
   "mimetype": "text/x-python",
   "name": "python",
   "nbconvert_exporter": "python",
   "pygments_lexer": "ipython3",
   "version": "3.9.1"
  }
 },
 "nbformat": 4,
 "nbformat_minor": 5
}
