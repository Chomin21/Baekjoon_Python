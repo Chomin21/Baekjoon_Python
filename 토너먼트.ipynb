{
 "cells": [
  {
   "cell_type": "code",
   "execution_count": 11,
   "id": "addressed-alaska",
   "metadata": {
    "scrolled": false
   },
   "outputs": [
    {
     "name": "stdout",
     "output_type": "stream",
     "text": [
      "60000 101 891\n",
      "10\n"
     ]
    }
   ],
   "source": [
    "#tournament\n",
    "\n",
    "N, jimin, hansu = map(int, input().split())\n",
    "list = [i for i in range(1, N+1)]\n",
    "\n",
    "#짝수와 홀수로 나누어서 다음 라운드에서의 순번 매기기\n",
    "def dividing(num):\n",
    "    if num % 2 == 0:\n",
    "        return num // 2\n",
    "    else:\n",
    "        return (num + 1) // 2\n",
    "\n",
    "count = 1\n",
    "while True:\n",
    "    if jimin < hansu and ((jimin + 1) == hansu):\n",
    "#토너먼트에서 숫자가 붙어있더라도 앞의 숫자가 짝수인 경우, 다음 라운드에서 만나지 않음\n",
    "        if jimin % 2 == 0 :\n",
    "            pass\n",
    "        else:\n",
    "            break\n",
    "    elif jimin > hansu and ((jimin - 1) == hansu):\n",
    "        if hansu % 2 == 0:\n",
    "            pass\n",
    "        else:\n",
    "            break\n",
    "    jimin = dividing(jimin)\n",
    "    hansu = dividing(hansu)\n",
    "    count += 1\n",
    "print(count)"
   ]
  },
  {
   "cell_type": "code",
   "execution_count": null,
   "id": "thorough-product",
   "metadata": {},
   "outputs": [],
   "source": []
  }
 ],
 "metadata": {
  "kernelspec": {
   "display_name": "Python 3",
   "language": "python",
   "name": "python3"
  },
  "language_info": {
   "codemirror_mode": {
    "name": "ipython",
    "version": 3
   },
   "file_extension": ".py",
   "mimetype": "text/x-python",
   "name": "python",
   "nbconvert_exporter": "python",
   "pygments_lexer": "ipython3",
   "version": "3.9.1"
  }
 },
 "nbformat": 4,
 "nbformat_minor": 5
}
