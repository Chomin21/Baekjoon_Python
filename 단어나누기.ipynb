{
 "cells": [
  {
   "cell_type": "code",
   "execution_count": 26,
   "id": "present-torture",
   "metadata": {},
   "outputs": [
    {
     "name": "stdout",
     "output_type": "stream",
     "text": [
      "mobitel\n",
      "bometil\n"
     ]
    }
   ],
   "source": [
    "word = input()\n",
    "\n",
    "word_list = list()\n",
    "\n",
    "length = len(word)\n",
    "for i in range(1, length - 2):\n",
    "    w1 = word[0 : i]\n",
    "    for t in range(1, length - i):\n",
    "        w2 = word[i : i + t]\n",
    "        w3 = word[i + t : length]\n",
    "        word_list.append(w1[::-1] + w2[::-1] + w3[::-1])\n",
    "word_list.sort()\n",
    "print(word_list[0])"
   ]
  },
  {
   "cell_type": "code",
   "execution_count": null,
   "id": "instrumental-negative",
   "metadata": {},
   "outputs": [],
   "source": []
  }
 ],
 "metadata": {
  "kernelspec": {
   "display_name": "Python 3",
   "language": "python",
   "name": "python3"
  },
  "language_info": {
   "codemirror_mode": {
    "name": "ipython",
    "version": 3
   },
   "file_extension": ".py",
   "mimetype": "text/x-python",
   "name": "python",
   "nbconvert_exporter": "python",
   "pygments_lexer": "ipython3",
   "version": "3.9.1"
  }
 },
 "nbformat": 4,
 "nbformat_minor": 5
}
