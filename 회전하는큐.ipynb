{
 "cells": [
  {
   "cell_type": "code",
   "execution_count": 19,
   "id": "steady-hands",
   "metadata": {},
   "outputs": [
    {
     "name": "stdout",
     "output_type": "stream",
     "text": [
      "32 6\n",
      "27 16 30 11 6 23\n",
      "59\n"
     ]
    }
   ],
   "source": [
    "#rotating queue\n",
    "\n",
    "from collections import deque\n",
    "\n",
    "N, M = map(int, input().split())\n",
    "find = list(map(int, input().split()))\n",
    "\n",
    "jimin = deque([i for i in range(1, N+1)])\n",
    "\n",
    "count = 0\n",
    "for k in find:\n",
    "    #내가 찾아야 하는 숫자와 큐의 맨 처음 요소가 같은 경우\n",
    "    if k == jimin[0]:\n",
    "        jimin.popleft()\n",
    "        continue\n",
    "    else : \n",
    "        #왼쪽으로 밀기\n",
    "        if jimin.index(k) <= (len(jimin) - 1) - jimin.index(k):\n",
    "            while True:\n",
    "                jimin.append(jimin.popleft())\n",
    "                count += 1\n",
    "                if k == jimin[0]:\n",
    "                    jimin.popleft()\n",
    "                    break\n",
    "        #오른쪽으로 밀기\n",
    "        else:\n",
    "            while True:\n",
    "                jimin.appendleft(jimin.pop())\n",
    "                count += 1\n",
    "                if k == jimin[0]:\n",
    "                    jimin.popleft()\n",
    "                    break\n",
    "    \n",
    "print(count) \n",
    "        "
   ]
  },
  {
   "cell_type": "code",
   "execution_count": null,
   "id": "moved-disabled",
   "metadata": {},
   "outputs": [],
   "source": []
  }
 ],
 "metadata": {
  "kernelspec": {
   "display_name": "Python 3",
   "language": "python",
   "name": "python3"
  },
  "language_info": {
   "codemirror_mode": {
    "name": "ipython",
    "version": 3
   },
   "file_extension": ".py",
   "mimetype": "text/x-python",
   "name": "python",
   "nbconvert_exporter": "python",
   "pygments_lexer": "ipython3",
   "version": "3.9.1"
  }
 },
 "nbformat": 4,
 "nbformat_minor": 5
}
