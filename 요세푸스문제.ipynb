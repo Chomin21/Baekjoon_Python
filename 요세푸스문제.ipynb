{
 "cells": [
  {
   "cell_type": "code",
   "execution_count": 6,
   "metadata": {
    "scrolled": false
   },
   "outputs": [
    {
     "name": "stdout",
     "output_type": "stream",
     "text": [
      "7 3\n",
      "<3, 6, 2, 7, 5, 1, 4>"
     ]
    }
   ],
   "source": [
    "#리스트 풀이. 시간 초과\n",
    "\n",
    "N, K = map(int, input().split())\n",
    "\n",
    "N_list = [1]*N\n",
    "answer = []\n",
    "\n",
    "index = 0\n",
    "count = 0\n",
    "while len(answer) < N:\n",
    "    \n",
    "    #N_list의 값이 1인 경우만 세기\n",
    "    if N_list[index] == 1:\n",
    "        count += 1\n",
    "        \n",
    "        #K번째 요소를 찾은 경우\n",
    "        if count == K:\n",
    "            answer.append(index + 1)\n",
    "            N_list[index] = 0\n",
    "            count = 0\n",
    "    \n",
    "    index += 1   \n",
    "    if index == N:\n",
    "        index = 0\n",
    "    \n",
    "print(\"<\", end = '')\n",
    "for i in range(len(answer)):\n",
    "    if i == len(answer) - 1:\n",
    "        print(answer[i], end = '')\n",
    "    else:\n",
    "        print(answer[i], end = ', ')\n",
    "print(\">\", end = '')"
   ]
  },
  {
   "cell_type": "code",
   "execution_count": 1,
   "metadata": {},
   "outputs": [
    {
     "name": "stdout",
     "output_type": "stream",
     "text": [
      "7 3\n",
      "<3, 6, 2, 7, 5, 1, 4>"
     ]
    }
   ],
   "source": [
    "#queue풀이\n",
    "from collections import deque\n",
    "\n",
    "N, K = map(int, input().split())\n",
    "\n",
    "N_list = deque([i for i in range(1, N+1)])\n",
    "\n",
    "answer = deque()\n",
    "\n",
    "index = 0\n",
    "count = 0\n",
    "while N_list:\n",
    "    count += 1\n",
    "\n",
    "    #K번째 요소를 찾은 경우\n",
    "    if count == K:\n",
    "        answer.append(N_list[index])\n",
    "        N_list.remove(N_list[index])\n",
    "        count = 0\n",
    "        index -= 1\n",
    "        if index < 0:\n",
    "            index = len(N_list) - 1\n",
    "        \n",
    "    index += 1   \n",
    "    if index >= len(N_list):\n",
    "        index = 0\n",
    "    \n",
    "print(\"<\", end = '')\n",
    "for i in range(len(answer)):\n",
    "    if i == len(answer) - 1:\n",
    "        print(answer[i], end = '')\n",
    "    else:\n",
    "        print(answer[i], end = ', ')\n",
    "print(\">\", end = '')\n"
   ]
  },
  {
   "cell_type": "code",
   "execution_count": 2,
   "metadata": {},
   "outputs": [
    {
     "name": "stdout",
     "output_type": "stream",
     "text": [
      "7 3\n",
      "<3, 6, 2, 7, 5, 1, 4>\n"
     ]
    }
   ],
   "source": [
    "#다른 사람 풀이\n",
    "\n",
    "n,k=map(int, input().split())\n",
    "arr=[str(i+1) for i in range(n)]\n",
    "\n",
    "idx=0\n",
    "answer=[]\n",
    "while(len(arr)>0):\n",
    "    #인덱스를 k-1만큼씩 더함\n",
    "    idx += (k - 1)\n",
    "    \n",
    "    #인덱스의 크기가 리스트 크기보다 클 경우, 길이로 나눠준 나머지만큼이 인덱스 위치가 됨\n",
    "    if idx >= len(arr):\n",
    "        idx %= len(arr)\n",
    "    answer.append(arr.pop(idx))\n",
    "\n",
    "print(\"<\", \", \".join(answer),\">\", sep=\"\")\n",
    "\n",
    "#print(str(result).replace('[','<').replace(']','>'))"
   ]
  },
  {
   "cell_type": "code",
   "execution_count": null,
   "metadata": {},
   "outputs": [],
   "source": []
  }
 ],
 "metadata": {
  "kernelspec": {
   "display_name": "Python 3",
   "language": "python",
   "name": "python3"
  },
  "language_info": {
   "codemirror_mode": {
    "name": "ipython",
    "version": 3
   },
   "file_extension": ".py",
   "mimetype": "text/x-python",
   "name": "python",
   "nbconvert_exporter": "python",
   "pygments_lexer": "ipython3",
   "version": "3.8.2"
  }
 },
 "nbformat": 4,
 "nbformat_minor": 5
}
