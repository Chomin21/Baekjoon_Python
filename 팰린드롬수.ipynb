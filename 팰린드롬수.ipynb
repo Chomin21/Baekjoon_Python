{
 "cells": [
  {
   "cell_type": "code",
   "execution_count": 3,
   "id": "veterinary-organic",
   "metadata": {},
   "outputs": [
    {
     "name": "stdout",
     "output_type": "stream",
     "text": [
      "121\n",
      "1231\n",
      "12421\n",
      "0\n",
      "yes\n",
      "no\n",
      "yes\n"
     ]
    }
   ],
   "source": [
    "answer = []\n",
    "\n",
    "while True:\n",
    "    n = input()\n",
    "    if n == '0':\n",
    "        break\n",
    "    length = len(n)\n",
    "    \n",
    "    for i in range(length//2 + 1):\n",
    "        if n[i] != n[length - 1 - i]:\n",
    "            answer.append(\"no\")\n",
    "            break\n",
    "        if i == (length//2):\n",
    "            answer.append(\"yes\")\n",
    "                \n",
    "for t in answer:\n",
    "    print(t)\n"
   ]
  },
  {
   "cell_type": "code",
   "execution_count": null,
   "id": "pending-christian",
   "metadata": {},
   "outputs": [],
   "source": []
  }
 ],
 "metadata": {
  "kernelspec": {
   "display_name": "Python 3",
   "language": "python",
   "name": "python3"
  },
  "language_info": {
   "codemirror_mode": {
    "name": "ipython",
    "version": 3
   },
   "file_extension": ".py",
   "mimetype": "text/x-python",
   "name": "python",
   "nbconvert_exporter": "python",
   "pygments_lexer": "ipython3",
   "version": "3.9.1"
  }
 },
 "nbformat": 4,
 "nbformat_minor": 5
}
