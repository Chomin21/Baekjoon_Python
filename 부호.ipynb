{
 "cells": [
  {
   "cell_type": "code",
   "execution_count": null,
   "id": "religious-riding",
   "metadata": {},
   "outputs": [
    {
     "name": "stdout",
     "output_type": "stream",
     "text": [
      "3\n",
      "0\n",
      "0\n",
      "0\n",
      "10\n",
      "1\n",
      "2\n",
      "4\n",
      "8\n",
      "16\n",
      "32\n",
      "64\n",
      "128\n",
      "256\n",
      "-512\n",
      "6\n",
      "9223372036854775807\n",
      "9223372036854775806\n",
      "9223372036854775805\n",
      "-9223372036854775807\n",
      "-9223372036854775806\n"
     ]
    }
   ],
   "source": [
    "#sign\n",
    "#stdin을 사용하지 않으면 시간 초과 생김.\n",
    "\n",
    "from sys import stdin\n",
    "\n",
    "answer = []\n",
    "\n",
    "for _ in range(3):\n",
    "    sum = 0\n",
    "    num = int(stdin.readline())\n",
    "    for _ in range(num):\n",
    "        sum += int(input())\n",
    "    if sum == 0:\n",
    "        answer.append(0)\n",
    "    elif sum < 0:\n",
    "        answer.append('-')\n",
    "    else:\n",
    "        answer.append('+')\n",
    "for i in answer:\n",
    "    print(i)"
   ]
  },
  {
   "cell_type": "code",
   "execution_count": null,
   "id": "native-budget",
   "metadata": {},
   "outputs": [],
   "source": [
    "#다른 사람 풀이\n",
    "\n",
    "from sys import stdin\n",
    "\n",
    "for _ in range(3):\n",
    "    N = int(stdin.readline())\n",
    "    li = [int(stdin.readline()) for i in range(N)]\n",
    "    if sum(li) == 0:\n",
    "        print(\"0\")\n",
    "    elif sum(li) > 0:\n",
    "        print(\"+\")\n",
    "    else:\n",
    "        print(\"-\")"
   ]
  }
 ],
 "metadata": {
  "kernelspec": {
   "display_name": "Python 3",
   "language": "python",
   "name": "python3"
  },
  "language_info": {
   "codemirror_mode": {
    "name": "ipython",
    "version": 3
   },
   "file_extension": ".py",
   "mimetype": "text/x-python",
   "name": "python",
   "nbconvert_exporter": "python",
   "pygments_lexer": "ipython3",
   "version": "3.9.1"
  }
 },
 "nbformat": 4,
 "nbformat_minor": 5
}
