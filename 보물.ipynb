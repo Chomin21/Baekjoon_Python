{
 "cells": [
  {
   "cell_type": "code",
   "execution_count": 14,
   "id": "adapted-senator",
   "metadata": {},
   "outputs": [
    {
     "name": "stdout",
     "output_type": "stream",
     "text": [
      "5\n",
      "1 1 1 6 0\n",
      "2 7 8 3 1\n",
      "18\n"
     ]
    }
   ],
   "source": [
    "#맞은 답\n",
    "def S(A, B):\n",
    "    sum = 0\n",
    "    for i in range(len(A)):\n",
    "        sum += A[i]*B[i]\n",
    "      \n",
    "    return sum\n",
    "\n",
    "n = int(input())\n",
    "A = list(map(int, input().split()))\n",
    "B = list(map(int, input().split()))\n",
    "B_compare = list()\n",
    "B_copy = B[:] #얕은 복사\n",
    "\n",
    "A_sort = A[:]\n",
    "A_sort.sort()# 0 1 1 1 6\n",
    "A_final = [0]*n\n",
    "\n",
    "index = 0\n",
    "for i in B_copy:\n",
    "    k = B_copy.index(max(B_copy))\n",
    "    B_copy[k] = -1\n",
    "    A_final[k] = A_sort[index]\n",
    "    index += 1\n",
    "\n",
    "print(S(A_final, B))"
   ]
  },
  {
   "cell_type": "code",
   "execution_count": 11,
   "id": "primary-escape",
   "metadata": {},
   "outputs": [
    {
     "name": "stdout",
     "output_type": "stream",
     "text": [
      "5\n",
      "1 1 1 6 0\n",
      "2 7 8 3 1\n",
      "18\n"
     ]
    }
   ],
   "source": [
    "#출력도 똑같이 되는데 틀렸다고 뜸. 이유는 알 수 없음.\n",
    "def S(A, B):\n",
    "    sum = 0\n",
    "    for i in range(len(A)):\n",
    "        sum += A[i]*B[i]\n",
    "      \n",
    "    return sum\n",
    "\n",
    "n = int(input())\n",
    "A = list(map(int, input().split()))\n",
    "B = list(map(int, input().split()))\n",
    "B_compare = list()\n",
    "\n",
    "B_sort = B[:]\n",
    "B_sort.sort(reverse = True)\n",
    "\n",
    "#B의 요소 값이 큰 순서대로 인덱스 0 부터 순서대로 부여\n",
    "for i in B_sort:\n",
    "    index = 0\n",
    "    for k in B:\n",
    "        if i == k:\n",
    "            B_compare.append([i, index])\n",
    "        index += 1\n",
    "        \n",
    "A_sort = A[:]\n",
    "A_sort.sort()# 0 1 1 1 6\n",
    "A_final = [0]*n\n",
    "\n",
    "#최종적으로 정렬하는 리스트인 A_final에 B의 요소를 큰 순서대로 그 요소들의 위치에 A의 작은 요소들을 순서대로 배치.\n",
    "for m in range(n):\n",
    "        A_final[B_compare[m][1]] = A_sort[m]\n",
    "\n",
    "print(S(A_final, B))"
   ]
  },
  {
   "cell_type": "code",
   "execution_count": null,
   "id": "christian-bobby",
   "metadata": {},
   "outputs": [],
   "source": []
  }
 ],
 "metadata": {
  "kernelspec": {
   "display_name": "Python 3",
   "language": "python",
   "name": "python3"
  },
  "language_info": {
   "codemirror_mode": {
    "name": "ipython",
    "version": 3
   },
   "file_extension": ".py",
   "mimetype": "text/x-python",
   "name": "python",
   "nbconvert_exporter": "python",
   "pygments_lexer": "ipython3",
   "version": "3.9.1"
  }
 },
 "nbformat": 4,
 "nbformat_minor": 5
}
