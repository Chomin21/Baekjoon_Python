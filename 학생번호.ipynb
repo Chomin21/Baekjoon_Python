{
 "cells": [
  {
   "cell_type": "code",
   "execution_count": 4,
   "id": "front-blink",
   "metadata": {},
   "outputs": [
    {
     "name": "stdout",
     "output_type": "stream",
     "text": [
      "3\n",
      "1212345\n",
      "1212356\n",
      "0033445\n",
      "3\n"
     ]
    }
   ],
   "source": [
    "#student number\n",
    "\n",
    "n = int(input())\n",
    "student_list = []\n",
    "\n",
    "for _ in range(n):\n",
    "    student_list.append(input())\n",
    "\n",
    "length = len(student_list[0])\n",
    "k = -1\n",
    "\n",
    "for t in range(0, 101):\n",
    "    num_list = []\n",
    "    for i in student_list:\n",
    "        if i[length - t:] not in num_list:\n",
    "            num_list.append(i[length - t:])\n",
    "        else:\n",
    "            break\n",
    "        if i == student_list[n - 1]:\n",
    "            k = t\n",
    "    if(k != -1):\n",
    "        break\n",
    "print(k)\n"
   ]
  },
  {
   "cell_type": "code",
   "execution_count": null,
   "id": "premium-blocking",
   "metadata": {},
   "outputs": [],
   "source": []
  }
 ],
 "metadata": {
  "kernelspec": {
   "display_name": "Python 3",
   "language": "python",
   "name": "python3"
  },
  "language_info": {
   "codemirror_mode": {
    "name": "ipython",
    "version": 3
   },
   "file_extension": ".py",
   "mimetype": "text/x-python",
   "name": "python",
   "nbconvert_exporter": "python",
   "pygments_lexer": "ipython3",
   "version": "3.9.1"
  }
 },
 "nbformat": 4,
 "nbformat_minor": 5
}
