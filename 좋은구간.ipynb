{
 "cells": [
  {
   "cell_type": "code",
   "execution_count": 46,
   "id": "completed-spiritual",
   "metadata": {},
   "outputs": [
    {
     "name": "stdout",
     "output_type": "stream",
     "text": [
      "1\n",
      "4\n",
      "1\n",
      "2\n"
     ]
    }
   ],
   "source": [
    "#good section\n",
    "\n",
    "L = int(input())\n",
    "S = list(map(int, input().split()))\n",
    "n = int(input())\n",
    "\n",
    "S.sort()\n",
    "front = 0\n",
    "back = 0\n",
    "if n in S: #n이 S의 원소인 경우\n",
    "    print(0)\n",
    "elif L == 1 or n < S[0]:#S의 길이가 1이거나 n이 S의 첫번째 요소보다 작은 경우\n",
    "    front = n - 1\n",
    "    back = S[0] - n\n",
    "    count = front * back + back - 1\n",
    "    print(count)\n",
    "else: #그 외의 경우들\n",
    "    for i in range(L):        \n",
    "        if S[i] < n < S[i+1]:\n",
    "            front = n - S[i]\n",
    "            back = S[i+1] - n\n",
    "            break\n",
    "    count = (front-1) * back + back - 1\n",
    "    print(count)"
   ]
  },
  {
   "cell_type": "code",
   "execution_count": null,
   "id": "occasional-mediterranean",
   "metadata": {},
   "outputs": [],
   "source": []
  }
 ],
 "metadata": {
  "kernelspec": {
   "display_name": "Python 3",
   "language": "python",
   "name": "python3"
  },
  "language_info": {
   "codemirror_mode": {
    "name": "ipython",
    "version": 3
   },
   "file_extension": ".py",
   "mimetype": "text/x-python",
   "name": "python",
   "nbconvert_exporter": "python",
   "pygments_lexer": "ipython3",
   "version": "3.9.1"
  }
 },
 "nbformat": 4,
 "nbformat_minor": 5
}
