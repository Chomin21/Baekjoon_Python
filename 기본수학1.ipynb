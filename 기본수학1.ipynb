{
 "cells": [
  {
   "cell_type": "code",
   "execution_count": null,
   "metadata": {},
   "outputs": [],
   "source": [
    "#시간초과함.\n",
    "a, b, c = map(int, input().split())\n",
    "\n",
    "cost = a\n",
    "count = 0\n",
    "if c < b :\n",
    "    print(-1)\n",
    "else:\n",
    "    while True:\n",
    "        cost += b\n",
    "        count += 1\n",
    "        if c*count > cost:\n",
    "            print(count)\n",
    "            break"
   ]
  },
  {
   "cell_type": "code",
   "execution_count": null,
   "metadata": {},
   "outputs": [],
   "source": [
    "#성공\n",
    "a, b, c = map(int, input().split())\n",
    "if c <= b :\n",
    "    print(-1)\n",
    "elif c > b:\n",
    "    print(int(a/(c-b))+1)"
   ]
  },
  {
   "cell_type": "code",
   "execution_count": null,
   "metadata": {},
   "outputs": [],
   "source": [
    "a = int(input())\n",
    "\n",
    "count = 0\n",
    "while True:\n",
    "    count = count + 1\n",
    "    if a = 1:\n",
    "        print(1)\n",
    "    else:\n",
    "        if a >= 2+6*count and a <= 7+6*count:\n",
    "            print(count)\n",
    "    \n",
    "\n"
   ]
  },
  {
   "cell_type": "code",
   "execution_count": null,
   "metadata": {},
   "outputs": [],
   "source": []
  }
 ],
 "metadata": {
  "kernelspec": {
   "display_name": "Python 3",
   "language": "python",
   "name": "python3"
  },
  "language_info": {
   "codemirror_mode": {
    "name": "ipython",
    "version": 3
   },
   "file_extension": ".py",
   "mimetype": "text/x-python",
   "name": "python",
   "nbconvert_exporter": "python",
   "pygments_lexer": "ipython3",
   "version": "3.8.2"
  }
 },
 "nbformat": 4,
 "nbformat_minor": 4
}
