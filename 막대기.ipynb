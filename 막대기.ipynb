{
 "cells": [
  {
   "cell_type": "code",
   "execution_count": 12,
   "id": "temporal-retreat",
   "metadata": {},
   "outputs": [
    {
     "name": "stdout",
     "output_type": "stream",
     "text": [
      "23\n",
      "4\n"
     ]
    }
   ],
   "source": [
    "X = int(input())\n",
    "\n",
    "jimin = [64]\n",
    "\n",
    "while sum(jimin) > X:\n",
    "    temp = jimin[0]/2\n",
    "    jimin.remove(jimin[0])\n",
    "    jimin.append(temp)\n",
    "    jimin.append(temp)\n",
    "    \n",
    "    jimin.sort()\n",
    "    total = sum(jimin[1:])\n",
    "    if total >= X:\n",
    "        jimin.remove(jimin[0])\n",
    "print(len(jimin))\n",
    "    "
   ]
  },
  {
   "cell_type": "code",
   "execution_count": null,
   "id": "varied-combine",
   "metadata": {},
   "outputs": [],
   "source": []
  }
 ],
 "metadata": {
  "kernelspec": {
   "display_name": "Python 3",
   "language": "python",
   "name": "python3"
  },
  "language_info": {
   "codemirror_mode": {
    "name": "ipython",
    "version": 3
   },
   "file_extension": ".py",
   "mimetype": "text/x-python",
   "name": "python",
   "nbconvert_exporter": "python",
   "pygments_lexer": "ipython3",
   "version": "3.9.1"
  }
 },
 "nbformat": 4,
 "nbformat_minor": 5
}
