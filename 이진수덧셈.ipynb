{
 "cells": [
  {
   "cell_type": "code",
   "execution_count": null,
   "metadata": {},
   "outputs": [],
   "source": [
    "#내 풀이\n",
    "\n",
    "from collections import deque\n",
    "\n",
    "n1, n2 = input().split()\n",
    "\n",
    "n1_10 = 0\n",
    "n2_10 = 0\n",
    "for i in range(len(n1)):\n",
    "    n1_10 += int(n1[i]) * 2**(len(n1) - 1 - i)\n",
    "    \n",
    "for t in range(len(n2)):\n",
    "    n2_10 += int(n2[t]) * 2**(len(n2) - 1 - t)\n",
    "    \n",
    "\n",
    "total = n1_10 + n2_10 #십진수\n",
    "\n",
    "answer_q = deque() \n",
    "\n",
    "while True:\n",
    "    if total == 0:\n",
    "        break\n",
    "    if total == 1:\n",
    "        answer_q.appendleft(total)\n",
    "        break\n",
    "    temp = total % 2\n",
    "    total //= 2\n",
    "    answer_q.appendleft(temp)\n",
    "    \n",
    "    \n",
    "if total == 0:\n",
    "    print(0)\n",
    "else:\n",
    "    for c in answer_q:\n",
    "        print(c, end = '')"
   ]
  },
  {
   "cell_type": "code",
   "execution_count": 12,
   "metadata": {},
   "outputs": [
    {
     "name": "stdout",
     "output_type": "stream",
     "text": [
      "1000 0110\n",
      "8\n",
      "6\n",
      "1110\n"
     ]
    }
   ],
   "source": [
    "#다른사람 풀이\n",
    "\n",
    "n, m = map(str, input().split())\n",
    "\n",
    "N = int(n, 2)\n",
    "M = int(m, 2)\n",
    "\n",
    "print(N)\n",
    "print(M)\n",
    "\n",
    "result = str(bin(N+M)) #bin은 \n",
    "\n",
    "print(result[2:len(result)])"
   ]
  },
  {
   "cell_type": "code",
   "execution_count": null,
   "metadata": {},
   "outputs": [],
   "source": []
  }
 ],
 "metadata": {
  "kernelspec": {
   "display_name": "Python 3",
   "language": "python",
   "name": "python3"
  },
  "language_info": {
   "codemirror_mode": {
    "name": "ipython",
    "version": 3
   },
   "file_extension": ".py",
   "mimetype": "text/x-python",
   "name": "python",
   "nbconvert_exporter": "python",
   "pygments_lexer": "ipython3",
   "version": "3.8.2"
  }
 },
 "nbformat": 4,
 "nbformat_minor": 5
}
